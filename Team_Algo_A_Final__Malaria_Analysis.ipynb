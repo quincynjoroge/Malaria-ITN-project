{
  "nbformat": 4,
  "nbformat_minor": 0,
  "metadata": {
    "colab": {
      "name": "Team Algo A_Final _Malaria Analysis.ipynb",
      "provenance": [],
      "collapsed_sections": [],
      "toc_visible": true
    },
    "kernelspec": {
      "name": "python3",
      "display_name": "Python 3"
    },
    "language_info": {
      "name": "python"
    }
  },
  "cells": [
    {
      "cell_type": "markdown",
      "metadata": {
        "id": "g03DNOOSigqm"
      },
      "source": [
        "**MALARIA ITN ANALYSIS PROJECT WEEK 5**"
      ]
    },
    {
      "cell_type": "markdown",
      "metadata": {
        "id": "6iGEjdcai2s0"
      },
      "source": [
        "# Importing python libraries"
      ]
    },
    {
      "cell_type": "code",
      "metadata": {
        "id": "alQxQroBg3f9"
      },
      "source": [
        "# Importing the pandas library\n",
        "import pandas as pd\n",
        "# Importing the numpy library\n",
        "import numpy as np"
      ],
      "execution_count": null,
      "outputs": []
    },
    {
      "cell_type": "markdown",
      "metadata": {
        "id": "CXQAPwEMjpMn"
      },
      "source": [
        "# Reading the Dataset from our Excel files\n"
      ]
    },
    {
      "cell_type": "code",
      "metadata": {
        "id": "SWZv3BkbhCEp",
        "colab": {
          "base_uri": "https://localhost:8080/",
          "height": 374
        },
        "outputId": "e027c4a8-7064-4427-8fa3-96a4dfc595b7"
      },
      "source": [
        "# previewing the first five rows of our dataset\n",
        "df_children = pd.read_excel('/content/Childre ITN.xlsx')\n",
        "df_children.head()"
      ],
      "execution_count": null,
      "outputs": [
        {
          "output_type": "execute_result",
          "data": {
            "text/html": [
              "<div>\n",
              "<style scoped>\n",
              "    .dataframe tbody tr th:only-of-type {\n",
              "        vertical-align: middle;\n",
              "    }\n",
              "\n",
              "    .dataframe tbody tr th {\n",
              "        vertical-align: top;\n",
              "    }\n",
              "\n",
              "    .dataframe thead th {\n",
              "        text-align: right;\n",
              "    }\n",
              "</style>\n",
              "<table border=\"1\" class=\"dataframe\">\n",
              "  <thead>\n",
              "    <tr style=\"text-align: right;\">\n",
              "      <th></th>\n",
              "      <th>Unnamed: 0</th>\n",
              "      <th>Children under 5 sleeping under an insecticide treated net (ITN)</th>\n",
              "      <th>Percentage of children (under age 5) who slept under an insecticide-treated mosquito net the night prior to the survey.</th>\n",
              "      <th>Unnamed: 3</th>\n",
              "      <th>Unnamed: 4</th>\n",
              "      <th>Unnamed: 5</th>\n",
              "      <th>Unnamed: 6</th>\n",
              "      <th>Unnamed: 7</th>\n",
              "      <th>Unnamed: 8</th>\n",
              "      <th>Unnamed: 9</th>\n",
              "      <th>Unnamed: 10</th>\n",
              "      <th>Unnamed: 11</th>\n",
              "      <th>Unnamed: 12</th>\n",
              "      <th>Unnamed: 13</th>\n",
              "      <th>Unnamed: 14</th>\n",
              "    </tr>\n",
              "  </thead>\n",
              "  <tbody>\n",
              "    <tr>\n",
              "      <th>0</th>\n",
              "      <td>ISO</td>\n",
              "      <td>Countries and areas</td>\n",
              "      <td>Year</td>\n",
              "      <td>Short Source</td>\n",
              "      <td>Long Source</td>\n",
              "      <td>National</td>\n",
              "      <td>Sex</td>\n",
              "      <td>NaN</td>\n",
              "      <td>Area</td>\n",
              "      <td>NaN</td>\n",
              "      <td>WIQ</td>\n",
              "      <td>NaN</td>\n",
              "      <td>NaN</td>\n",
              "      <td>NaN</td>\n",
              "      <td>NaN</td>\n",
              "    </tr>\n",
              "    <tr>\n",
              "      <th>1</th>\n",
              "      <td>NaN</td>\n",
              "      <td>NaN</td>\n",
              "      <td>NaN</td>\n",
              "      <td>NaN</td>\n",
              "      <td>NaN</td>\n",
              "      <td>NaN</td>\n",
              "      <td>Male</td>\n",
              "      <td>Female</td>\n",
              "      <td>Rural</td>\n",
              "      <td>Urban</td>\n",
              "      <td>Poorest</td>\n",
              "      <td>Second</td>\n",
              "      <td>Middle</td>\n",
              "      <td>Fourth</td>\n",
              "      <td>Richest</td>\n",
              "    </tr>\n",
              "    <tr>\n",
              "      <th>2</th>\n",
              "      <td>AFG</td>\n",
              "      <td>Afghanistan</td>\n",
              "      <td>2015</td>\n",
              "      <td>DHS 2015</td>\n",
              "      <td>Demographic and Health Survey 2015</td>\n",
              "      <td>4.6</td>\n",
              "      <td>NaN</td>\n",
              "      <td>NaN</td>\n",
              "      <td>4.2</td>\n",
              "      <td>6.1</td>\n",
              "      <td>1.1</td>\n",
              "      <td>3.3</td>\n",
              "      <td>5.5</td>\n",
              "      <td>6.8</td>\n",
              "      <td>6.5</td>\n",
              "    </tr>\n",
              "    <tr>\n",
              "      <th>3</th>\n",
              "      <td>AGO</td>\n",
              "      <td>Angola</td>\n",
              "      <td>2007</td>\n",
              "      <td>Other NS 2006-2007</td>\n",
              "      <td>Other NS 2006-2007</td>\n",
              "      <td>18</td>\n",
              "      <td>18</td>\n",
              "      <td>18</td>\n",
              "      <td>19</td>\n",
              "      <td>17</td>\n",
              "      <td>17</td>\n",
              "      <td>16</td>\n",
              "      <td>22</td>\n",
              "      <td>17</td>\n",
              "      <td>14</td>\n",
              "    </tr>\n",
              "    <tr>\n",
              "      <th>4</th>\n",
              "      <td>AGO</td>\n",
              "      <td>Angola</td>\n",
              "      <td>2011</td>\n",
              "      <td>MIS 2011</td>\n",
              "      <td>Malaria Indicator Survey 2011</td>\n",
              "      <td>25.9</td>\n",
              "      <td>25.4</td>\n",
              "      <td>26.4</td>\n",
              "      <td>24.4</td>\n",
              "      <td>28.9</td>\n",
              "      <td>11.7</td>\n",
              "      <td>17.9</td>\n",
              "      <td>23.4</td>\n",
              "      <td>31</td>\n",
              "      <td>34.2</td>\n",
              "    </tr>\n",
              "  </tbody>\n",
              "</table>\n",
              "</div>"
            ],
            "text/plain": [
              "  Unnamed: 0  ... Unnamed: 14\n",
              "0        ISO  ...         NaN\n",
              "1        NaN  ...     Richest\n",
              "2        AFG  ...         6.5\n",
              "3        AGO  ...          14\n",
              "4        AGO  ...        34.2\n",
              "\n",
              "[5 rows x 15 columns]"
            ]
          },
          "metadata": {
            "tags": []
          },
          "execution_count": 2
        }
      ]
    },
    {
      "cell_type": "code",
      "metadata": {
        "id": "JFk0u9UkhBxn",
        "colab": {
          "base_uri": "https://localhost:8080/",
          "height": 289
        },
        "outputId": "3733f10e-0c63-457f-eacf-4e614731a86c"
      },
      "source": [
        "# previewing the first five rows of our dataset\n",
        "df_household = pd.read_excel('/content/Household ITN.xlsx')\n",
        "df_household.head()"
      ],
      "execution_count": null,
      "outputs": [
        {
          "output_type": "execute_result",
          "data": {
            "text/html": [
              "<div>\n",
              "<style scoped>\n",
              "    .dataframe tbody tr th:only-of-type {\n",
              "        vertical-align: middle;\n",
              "    }\n",
              "\n",
              "    .dataframe tbody tr th {\n",
              "        vertical-align: top;\n",
              "    }\n",
              "\n",
              "    .dataframe thead th {\n",
              "        text-align: right;\n",
              "    }\n",
              "</style>\n",
              "<table border=\"1\" class=\"dataframe\">\n",
              "  <thead>\n",
              "    <tr style=\"text-align: right;\">\n",
              "      <th></th>\n",
              "      <th>Unnamed: 0</th>\n",
              "      <th>Insecticide treated net ownership by households</th>\n",
              "      <th>Percentage of households with at least one insecticide treated mosquito net (ITN)</th>\n",
              "      <th>Unnamed: 3</th>\n",
              "      <th>Unnamed: 4</th>\n",
              "      <th>Unnamed: 5</th>\n",
              "      <th>Unnamed: 6</th>\n",
              "      <th>Unnamed: 7</th>\n",
              "      <th>Unnamed: 8</th>\n",
              "      <th>Unnamed: 9</th>\n",
              "      <th>Unnamed: 10</th>\n",
              "      <th>Unnamed: 11</th>\n",
              "      <th>Unnamed: 12</th>\n",
              "    </tr>\n",
              "  </thead>\n",
              "  <tbody>\n",
              "    <tr>\n",
              "      <th>0</th>\n",
              "      <td>ISO</td>\n",
              "      <td>Countries and areas</td>\n",
              "      <td>Year</td>\n",
              "      <td>Short Source</td>\n",
              "      <td>Long Source</td>\n",
              "      <td>National</td>\n",
              "      <td>Area</td>\n",
              "      <td>NaN</td>\n",
              "      <td>WIQ</td>\n",
              "      <td>NaN</td>\n",
              "      <td>NaN</td>\n",
              "      <td>NaN</td>\n",
              "      <td>NaN</td>\n",
              "    </tr>\n",
              "    <tr>\n",
              "      <th>1</th>\n",
              "      <td>NaN</td>\n",
              "      <td>NaN</td>\n",
              "      <td>NaN</td>\n",
              "      <td>NaN</td>\n",
              "      <td>NaN</td>\n",
              "      <td>NaN</td>\n",
              "      <td>Rural</td>\n",
              "      <td>Urban</td>\n",
              "      <td>Poorest</td>\n",
              "      <td>Second</td>\n",
              "      <td>Middle</td>\n",
              "      <td>Fourth</td>\n",
              "      <td>Richest</td>\n",
              "    </tr>\n",
              "    <tr>\n",
              "      <th>2</th>\n",
              "      <td>AFG</td>\n",
              "      <td>Afghanistan</td>\n",
              "      <td>2015</td>\n",
              "      <td>DHS 2015</td>\n",
              "      <td>Demographic and Health Survey 2015</td>\n",
              "      <td>26</td>\n",
              "      <td>28.7</td>\n",
              "      <td>18.2</td>\n",
              "      <td>21.2</td>\n",
              "      <td>28.2</td>\n",
              "      <td>29.5</td>\n",
              "      <td>31.5</td>\n",
              "      <td>19.6</td>\n",
              "    </tr>\n",
              "    <tr>\n",
              "      <th>3</th>\n",
              "      <td>AGO</td>\n",
              "      <td>Angola</td>\n",
              "      <td>2007</td>\n",
              "      <td>Other NS 2006-2007</td>\n",
              "      <td>Other NS 2006-2007</td>\n",
              "      <td>28</td>\n",
              "      <td>26</td>\n",
              "      <td>29</td>\n",
              "      <td>26</td>\n",
              "      <td>22</td>\n",
              "      <td>33</td>\n",
              "      <td>29</td>\n",
              "      <td>31</td>\n",
              "    </tr>\n",
              "    <tr>\n",
              "      <th>4</th>\n",
              "      <td>AGO</td>\n",
              "      <td>Angola</td>\n",
              "      <td>2011</td>\n",
              "      <td>MIS 2011</td>\n",
              "      <td>Malaria Indicator Survey 2011</td>\n",
              "      <td>34.5</td>\n",
              "      <td>31.8</td>\n",
              "      <td>39</td>\n",
              "      <td>14.8</td>\n",
              "      <td>22.8</td>\n",
              "      <td>32.6</td>\n",
              "      <td>41.8</td>\n",
              "      <td>44.4</td>\n",
              "    </tr>\n",
              "  </tbody>\n",
              "</table>\n",
              "</div>"
            ],
            "text/plain": [
              "  Unnamed: 0  ... Unnamed: 12\n",
              "0        ISO  ...         NaN\n",
              "1        NaN  ...     Richest\n",
              "2        AFG  ...        19.6\n",
              "3        AGO  ...          31\n",
              "4        AGO  ...        44.4\n",
              "\n",
              "[5 rows x 13 columns]"
            ]
          },
          "metadata": {
            "tags": []
          },
          "execution_count": 3
        }
      ]
    },
    {
      "cell_type": "code",
      "metadata": {
        "id": "WDmg1VSnhBrx",
        "colab": {
          "base_uri": "https://localhost:8080/",
          "height": 340
        },
        "outputId": "4ab23ef6-cbad-4123-9be4-81f51130520a"
      },
      "source": [
        "# previewing the first five rows of our dataset\n",
        "df_pregnant = pd.read_excel('/content/Pregnant ITN.xlsx')\n",
        "df_pregnant.head()"
      ],
      "execution_count": null,
      "outputs": [
        {
          "output_type": "execute_result",
          "data": {
            "text/html": [
              "<div>\n",
              "<style scoped>\n",
              "    .dataframe tbody tr th:only-of-type {\n",
              "        vertical-align: middle;\n",
              "    }\n",
              "\n",
              "    .dataframe tbody tr th {\n",
              "        vertical-align: top;\n",
              "    }\n",
              "\n",
              "    .dataframe thead th {\n",
              "        text-align: right;\n",
              "    }\n",
              "</style>\n",
              "<table border=\"1\" class=\"dataframe\">\n",
              "  <thead>\n",
              "    <tr style=\"text-align: right;\">\n",
              "      <th></th>\n",
              "      <th>Unnamed: 0</th>\n",
              "      <th>Pregnant women sleeping under insecticide-treated nets (ITNs)</th>\n",
              "      <th>Percentage of pregnant women (age 15-49) who slept under an insecticide-treated net the previous night</th>\n",
              "      <th>Unnamed: 3</th>\n",
              "      <th>Unnamed: 4</th>\n",
              "      <th>Unnamed: 5</th>\n",
              "      <th>Unnamed: 6</th>\n",
              "      <th>Unnamed: 7</th>\n",
              "      <th>Unnamed: 8</th>\n",
              "      <th>Unnamed: 9</th>\n",
              "      <th>Unnamed: 10</th>\n",
              "      <th>Unnamed: 11</th>\n",
              "      <th>Unnamed: 12</th>\n",
              "    </tr>\n",
              "  </thead>\n",
              "  <tbody>\n",
              "    <tr>\n",
              "      <th>0</th>\n",
              "      <td>ISO</td>\n",
              "      <td>Countries and areas</td>\n",
              "      <td>Year</td>\n",
              "      <td>Short Source</td>\n",
              "      <td>Long Source</td>\n",
              "      <td>National</td>\n",
              "      <td>Area</td>\n",
              "      <td>NaN</td>\n",
              "      <td>WIQ</td>\n",
              "      <td>NaN</td>\n",
              "      <td>NaN</td>\n",
              "      <td>NaN</td>\n",
              "      <td>NaN</td>\n",
              "    </tr>\n",
              "    <tr>\n",
              "      <th>1</th>\n",
              "      <td>NaN</td>\n",
              "      <td>NaN</td>\n",
              "      <td>NaN</td>\n",
              "      <td>NaN</td>\n",
              "      <td>NaN</td>\n",
              "      <td>NaN</td>\n",
              "      <td>Rural</td>\n",
              "      <td>Urban</td>\n",
              "      <td>Poorest</td>\n",
              "      <td>Second</td>\n",
              "      <td>Middle</td>\n",
              "      <td>Fourth</td>\n",
              "      <td>Richest</td>\n",
              "    </tr>\n",
              "    <tr>\n",
              "      <th>2</th>\n",
              "      <td>AFG</td>\n",
              "      <td>Afghanistan</td>\n",
              "      <td>2015</td>\n",
              "      <td>DHS 2015</td>\n",
              "      <td>Demographic and Health Survey 2015</td>\n",
              "      <td>4.1</td>\n",
              "      <td>3.4</td>\n",
              "      <td>8</td>\n",
              "      <td>0.8</td>\n",
              "      <td>3</td>\n",
              "      <td>4.6</td>\n",
              "      <td>5.2</td>\n",
              "      <td>9.3</td>\n",
              "    </tr>\n",
              "    <tr>\n",
              "      <th>3</th>\n",
              "      <td>AGO</td>\n",
              "      <td>Angola</td>\n",
              "      <td>2007</td>\n",
              "      <td>MIS 2006-2007</td>\n",
              "      <td>Malaria Indicator Survey 2006-2007</td>\n",
              "      <td>22</td>\n",
              "      <td>26.4</td>\n",
              "      <td>14.8</td>\n",
              "      <td>23</td>\n",
              "      <td>24.3</td>\n",
              "      <td>26.9</td>\n",
              "      <td>14.4</td>\n",
              "      <td>NaN</td>\n",
              "    </tr>\n",
              "    <tr>\n",
              "      <th>4</th>\n",
              "      <td>AGO</td>\n",
              "      <td>Angola</td>\n",
              "      <td>2011</td>\n",
              "      <td>MIS 2011</td>\n",
              "      <td>Malaria Indicator Survey 2011</td>\n",
              "      <td>25.6</td>\n",
              "      <td>24.5</td>\n",
              "      <td>28.1</td>\n",
              "      <td>13.9</td>\n",
              "      <td>20.2</td>\n",
              "      <td>21.1</td>\n",
              "      <td>28.5</td>\n",
              "      <td>33.2</td>\n",
              "    </tr>\n",
              "  </tbody>\n",
              "</table>\n",
              "</div>"
            ],
            "text/plain": [
              "  Unnamed: 0  ... Unnamed: 12\n",
              "0        ISO  ...         NaN\n",
              "1        NaN  ...     Richest\n",
              "2        AFG  ...         9.3\n",
              "3        AGO  ...         NaN\n",
              "4        AGO  ...        33.2\n",
              "\n",
              "[5 rows x 13 columns]"
            ]
          },
          "metadata": {
            "tags": []
          },
          "execution_count": 4
        }
      ]
    },
    {
      "cell_type": "markdown",
      "metadata": {
        "id": "JO6nT-rIlmYb"
      },
      "source": [
        "# Accessing Information about our Dataset"
      ]
    },
    {
      "cell_type": "code",
      "metadata": {
        "colab": {
          "base_uri": "https://localhost:8080/"
        },
        "id": "je5tn0A5lp4S",
        "outputId": "24d2e587-b3a2-4d2e-9cbc-6972e6f87788"
      },
      "source": [
        "# Getting to know more about the dataset by accessing its information\n",
        "df_children.info()"
      ],
      "execution_count": null,
      "outputs": [
        {
          "output_type": "stream",
          "text": [
            "<class 'pandas.core.frame.DataFrame'>\n",
            "RangeIndex: 249 entries, 0 to 248\n",
            "Data columns (total 15 columns):\n",
            " #   Column                                                                                                                   Non-Null Count  Dtype \n",
            "---  ------                                                                                                                   --------------  ----- \n",
            " 0   Unnamed: 0                                                                                                               248 non-null    object\n",
            " 1   Children under 5 sleeping under an insecticide treated net (ITN)                                                         248 non-null    object\n",
            " 2   Percentage of children (under age 5) who slept under an insecticide-treated mosquito net the night prior to the survey.  248 non-null    object\n",
            " 3   Unnamed: 3                                                                                                               248 non-null    object\n",
            " 4   Unnamed: 4                                                                                                               248 non-null    object\n",
            " 5   Unnamed: 5                                                                                                               247 non-null    object\n",
            " 6   Unnamed: 6                                                                                                               217 non-null    object\n",
            " 7   Unnamed: 7                                                                                                               216 non-null    object\n",
            " 8   Unnamed: 8                                                                                                               231 non-null    object\n",
            " 9   Unnamed: 9                                                                                                               235 non-null    object\n",
            " 10  Unnamed: 10                                                                                                              208 non-null    object\n",
            " 11  Unnamed: 11                                                                                                              207 non-null    object\n",
            " 12  Unnamed: 12                                                                                                              209 non-null    object\n",
            " 13  Unnamed: 13                                                                                                              211 non-null    object\n",
            " 14  Unnamed: 14                                                                                                              215 non-null    object\n",
            "dtypes: object(15)\n",
            "memory usage: 29.3+ KB\n"
          ],
          "name": "stdout"
        }
      ]
    },
    {
      "cell_type": "code",
      "metadata": {
        "colab": {
          "base_uri": "https://localhost:8080/"
        },
        "id": "H_UOE1DZlstS",
        "outputId": "36d67a60-0440-4464-95ce-6fc55add40ae"
      },
      "source": [
        "# Getting to know more about the dataset by accessing its information\n",
        "df_household.info()"
      ],
      "execution_count": null,
      "outputs": [
        {
          "output_type": "stream",
          "text": [
            "<class 'pandas.core.frame.DataFrame'>\n",
            "RangeIndex: 219 entries, 0 to 218\n",
            "Data columns (total 13 columns):\n",
            " #   Column                                                                             Non-Null Count  Dtype \n",
            "---  ------                                                                             --------------  ----- \n",
            " 0   Unnamed: 0                                                                         218 non-null    object\n",
            " 1   Insecticide treated net ownership by households                                    218 non-null    object\n",
            " 2   Percentage of households with at least one insecticide treated mosquito net (ITN)  218 non-null    object\n",
            " 3   Unnamed: 3                                                                         218 non-null    object\n",
            " 4   Unnamed: 4                                                                         218 non-null    object\n",
            " 5   Unnamed: 5                                                                         218 non-null    object\n",
            " 6   Unnamed: 6                                                                         210 non-null    object\n",
            " 7   Unnamed: 7                                                                         208 non-null    object\n",
            " 8   Unnamed: 8                                                                         198 non-null    object\n",
            " 9   Unnamed: 9                                                                         198 non-null    object\n",
            " 10  Unnamed: 10                                                                        197 non-null    object\n",
            " 11  Unnamed: 11                                                                        197 non-null    object\n",
            " 12  Unnamed: 12                                                                        196 non-null    object\n",
            "dtypes: object(13)\n",
            "memory usage: 22.4+ KB\n"
          ],
          "name": "stdout"
        }
      ]
    },
    {
      "cell_type": "code",
      "metadata": {
        "colab": {
          "base_uri": "https://localhost:8080/"
        },
        "id": "LnstXA2ilsCK",
        "outputId": "3033f46f-f088-4513-eb8a-d3291ab46b0c"
      },
      "source": [
        "# Getting to know more about the dataset by accessing its information\n",
        "df_pregnant.info()"
      ],
      "execution_count": null,
      "outputs": [
        {
          "output_type": "stream",
          "text": [
            "<class 'pandas.core.frame.DataFrame'>\n",
            "RangeIndex: 155 entries, 0 to 154\n",
            "Data columns (total 13 columns):\n",
            " #   Column                                                                                                  Non-Null Count  Dtype \n",
            "---  ------                                                                                                  --------------  ----- \n",
            " 0   Unnamed: 0                                                                                              154 non-null    object\n",
            " 1   Pregnant women sleeping under insecticide-treated nets (ITNs)                                           154 non-null    object\n",
            " 2   Percentage of pregnant women (age 15-49) who slept under an insecticide-treated net the previous night  154 non-null    object\n",
            " 3   Unnamed: 3                                                                                              154 non-null    object\n",
            " 4   Unnamed: 4                                                                                              154 non-null    object\n",
            " 5   Unnamed: 5                                                                                              153 non-null    object\n",
            " 6   Unnamed: 6                                                                                              153 non-null    object\n",
            " 7   Unnamed: 7                                                                                              149 non-null    object\n",
            " 8   Unnamed: 8                                                                                              146 non-null    object\n",
            " 9   Unnamed: 9                                                                                              146 non-null    object\n",
            " 10  Unnamed: 10                                                                                             144 non-null    object\n",
            " 11  Unnamed: 11                                                                                             145 non-null    object\n",
            " 12  Unnamed: 12                                                                                             143 non-null    object\n",
            "dtypes: object(13)\n",
            "memory usage: 15.9+ KB\n"
          ],
          "name": "stdout"
        }
      ]
    },
    {
      "cell_type": "markdown",
      "metadata": {
        "id": "rxL6VT5zmQQT"
      },
      "source": [
        "# Cleaning our dataset"
      ]
    },
    {
      "cell_type": "markdown",
      "metadata": {
        "id": "RBV9yDftm0V7"
      },
      "source": [
        "**Validity**"
      ]
    },
    {
      "cell_type": "code",
      "metadata": {
        "colab": {
          "base_uri": "https://localhost:8080/",
          "height": 204
        },
        "id": "H-vpnUQeqaLU",
        "outputId": "2926a13b-1283-4830-f1c1-5642252922c2"
      },
      "source": [
        "#Procedure 1: Renaming columns household dataset\n",
        "df_household.rename(columns={\"Unnamed: 0\":\"ISO\",\"Insecticide treated net ownership by households\":\"Countries and areas\",\"Percentage of households with at least one insecticide treated mosquito net (ITN)\":\"Year\",\"Unnamed: 5\":\"National\",\"Unnamed: 6\":\"Rural\",\"Unnamed: 7\":\"Urban\",\"Unnamed: 8\":\"Poorest\",\"Unnamed: 9\":\"Second\",\"Unnamed: 10\":\"Middle\",\"Unnamed: 11\":\"Fourth\",\"Unnamed: 12\":\"Richest\"},inplace=True)\n",
        "df_household.head()"
      ],
      "execution_count": null,
      "outputs": [
        {
          "output_type": "execute_result",
          "data": {
            "text/html": [
              "<div>\n",
              "<style scoped>\n",
              "    .dataframe tbody tr th:only-of-type {\n",
              "        vertical-align: middle;\n",
              "    }\n",
              "\n",
              "    .dataframe tbody tr th {\n",
              "        vertical-align: top;\n",
              "    }\n",
              "\n",
              "    .dataframe thead th {\n",
              "        text-align: right;\n",
              "    }\n",
              "</style>\n",
              "<table border=\"1\" class=\"dataframe\">\n",
              "  <thead>\n",
              "    <tr style=\"text-align: right;\">\n",
              "      <th></th>\n",
              "      <th>ISO</th>\n",
              "      <th>Countries and areas</th>\n",
              "      <th>Year</th>\n",
              "      <th>Unnamed: 3</th>\n",
              "      <th>Unnamed: 4</th>\n",
              "      <th>National</th>\n",
              "      <th>Rural</th>\n",
              "      <th>Urban</th>\n",
              "      <th>Poorest</th>\n",
              "      <th>Second</th>\n",
              "      <th>Middle</th>\n",
              "      <th>Fourth</th>\n",
              "      <th>Richest</th>\n",
              "    </tr>\n",
              "  </thead>\n",
              "  <tbody>\n",
              "    <tr>\n",
              "      <th>0</th>\n",
              "      <td>ISO</td>\n",
              "      <td>Countries and areas</td>\n",
              "      <td>Year</td>\n",
              "      <td>Short Source</td>\n",
              "      <td>Long Source</td>\n",
              "      <td>National</td>\n",
              "      <td>Area</td>\n",
              "      <td>NaN</td>\n",
              "      <td>WIQ</td>\n",
              "      <td>NaN</td>\n",
              "      <td>NaN</td>\n",
              "      <td>NaN</td>\n",
              "      <td>NaN</td>\n",
              "    </tr>\n",
              "    <tr>\n",
              "      <th>1</th>\n",
              "      <td>NaN</td>\n",
              "      <td>NaN</td>\n",
              "      <td>NaN</td>\n",
              "      <td>NaN</td>\n",
              "      <td>NaN</td>\n",
              "      <td>NaN</td>\n",
              "      <td>Rural</td>\n",
              "      <td>Urban</td>\n",
              "      <td>Poorest</td>\n",
              "      <td>Second</td>\n",
              "      <td>Middle</td>\n",
              "      <td>Fourth</td>\n",
              "      <td>Richest</td>\n",
              "    </tr>\n",
              "    <tr>\n",
              "      <th>2</th>\n",
              "      <td>AFG</td>\n",
              "      <td>Afghanistan</td>\n",
              "      <td>2015</td>\n",
              "      <td>DHS 2015</td>\n",
              "      <td>Demographic and Health Survey 2015</td>\n",
              "      <td>26</td>\n",
              "      <td>28.7</td>\n",
              "      <td>18.2</td>\n",
              "      <td>21.2</td>\n",
              "      <td>28.2</td>\n",
              "      <td>29.5</td>\n",
              "      <td>31.5</td>\n",
              "      <td>19.6</td>\n",
              "    </tr>\n",
              "    <tr>\n",
              "      <th>3</th>\n",
              "      <td>AGO</td>\n",
              "      <td>Angola</td>\n",
              "      <td>2007</td>\n",
              "      <td>Other NS 2006-2007</td>\n",
              "      <td>Other NS 2006-2007</td>\n",
              "      <td>28</td>\n",
              "      <td>26</td>\n",
              "      <td>29</td>\n",
              "      <td>26</td>\n",
              "      <td>22</td>\n",
              "      <td>33</td>\n",
              "      <td>29</td>\n",
              "      <td>31</td>\n",
              "    </tr>\n",
              "    <tr>\n",
              "      <th>4</th>\n",
              "      <td>AGO</td>\n",
              "      <td>Angola</td>\n",
              "      <td>2011</td>\n",
              "      <td>MIS 2011</td>\n",
              "      <td>Malaria Indicator Survey 2011</td>\n",
              "      <td>34.5</td>\n",
              "      <td>31.8</td>\n",
              "      <td>39</td>\n",
              "      <td>14.8</td>\n",
              "      <td>22.8</td>\n",
              "      <td>32.6</td>\n",
              "      <td>41.8</td>\n",
              "      <td>44.4</td>\n",
              "    </tr>\n",
              "  </tbody>\n",
              "</table>\n",
              "</div>"
            ],
            "text/plain": [
              "   ISO  Countries and areas  Year  ...  Middle  Fourth  Richest\n",
              "0  ISO  Countries and areas  Year  ...     NaN     NaN      NaN\n",
              "1  NaN                  NaN   NaN  ...  Middle  Fourth  Richest\n",
              "2  AFG          Afghanistan  2015  ...    29.5    31.5     19.6\n",
              "3  AGO               Angola  2007  ...      33      29       31\n",
              "4  AGO               Angola  2011  ...    32.6    41.8     44.4\n",
              "\n",
              "[5 rows x 13 columns]"
            ]
          },
          "metadata": {
            "tags": []
          },
          "execution_count": 8
        }
      ]
    },
    {
      "cell_type": "code",
      "metadata": {
        "colab": {
          "base_uri": "https://localhost:8080/",
          "height": 204
        },
        "id": "IsLicYTJrLvr",
        "outputId": "3de179d7-0f6f-4c0d-f6c8-1864c1113bb2"
      },
      "source": [
        "#Procedure: Renaming columns on children dataset\n",
        "df_children.rename(columns={\"Unnamed: 0\":\"ISO\",\"Children under 5 sleeping under an insecticide treated net (ITN)\":\"Countries\",\"Percentage of children (under age 5) who slept under an insecticide-treated mosquito net the night prior to the survey.\":\"Year\",\"Unnamed: 5\":\"National\",\"Unnamed: 6\":\"Male\",\"Unnamed: 7\":\"Female\",\"Unnamed: 8\":\"Rural\",\"Unnamed: 9\":\"Urban\",\"Unnamed: 10\":\"Poorest\",\"Unnamed: 11\":\"Second\",\"Unnamed: 12\":\"Middle\",\"Unnamed: 13\":\"Fourth\",\"Unnamed: 14\":\"Richest\"},inplace=True)\n",
        "df_children.head()"
      ],
      "execution_count": null,
      "outputs": [
        {
          "output_type": "execute_result",
          "data": {
            "text/html": [
              "<div>\n",
              "<style scoped>\n",
              "    .dataframe tbody tr th:only-of-type {\n",
              "        vertical-align: middle;\n",
              "    }\n",
              "\n",
              "    .dataframe tbody tr th {\n",
              "        vertical-align: top;\n",
              "    }\n",
              "\n",
              "    .dataframe thead th {\n",
              "        text-align: right;\n",
              "    }\n",
              "</style>\n",
              "<table border=\"1\" class=\"dataframe\">\n",
              "  <thead>\n",
              "    <tr style=\"text-align: right;\">\n",
              "      <th></th>\n",
              "      <th>ISO</th>\n",
              "      <th>Countries</th>\n",
              "      <th>Year</th>\n",
              "      <th>Unnamed: 3</th>\n",
              "      <th>Unnamed: 4</th>\n",
              "      <th>National</th>\n",
              "      <th>Male</th>\n",
              "      <th>Female</th>\n",
              "      <th>Rural</th>\n",
              "      <th>Urban</th>\n",
              "      <th>Poorest</th>\n",
              "      <th>Second</th>\n",
              "      <th>Middle</th>\n",
              "      <th>Fourth</th>\n",
              "      <th>Richest</th>\n",
              "    </tr>\n",
              "  </thead>\n",
              "  <tbody>\n",
              "    <tr>\n",
              "      <th>0</th>\n",
              "      <td>ISO</td>\n",
              "      <td>Countries and areas</td>\n",
              "      <td>Year</td>\n",
              "      <td>Short Source</td>\n",
              "      <td>Long Source</td>\n",
              "      <td>National</td>\n",
              "      <td>Sex</td>\n",
              "      <td>NaN</td>\n",
              "      <td>Area</td>\n",
              "      <td>NaN</td>\n",
              "      <td>WIQ</td>\n",
              "      <td>NaN</td>\n",
              "      <td>NaN</td>\n",
              "      <td>NaN</td>\n",
              "      <td>NaN</td>\n",
              "    </tr>\n",
              "    <tr>\n",
              "      <th>1</th>\n",
              "      <td>NaN</td>\n",
              "      <td>NaN</td>\n",
              "      <td>NaN</td>\n",
              "      <td>NaN</td>\n",
              "      <td>NaN</td>\n",
              "      <td>NaN</td>\n",
              "      <td>Male</td>\n",
              "      <td>Female</td>\n",
              "      <td>Rural</td>\n",
              "      <td>Urban</td>\n",
              "      <td>Poorest</td>\n",
              "      <td>Second</td>\n",
              "      <td>Middle</td>\n",
              "      <td>Fourth</td>\n",
              "      <td>Richest</td>\n",
              "    </tr>\n",
              "    <tr>\n",
              "      <th>2</th>\n",
              "      <td>AFG</td>\n",
              "      <td>Afghanistan</td>\n",
              "      <td>2015</td>\n",
              "      <td>DHS 2015</td>\n",
              "      <td>Demographic and Health Survey 2015</td>\n",
              "      <td>4.6</td>\n",
              "      <td>NaN</td>\n",
              "      <td>NaN</td>\n",
              "      <td>4.2</td>\n",
              "      <td>6.1</td>\n",
              "      <td>1.1</td>\n",
              "      <td>3.3</td>\n",
              "      <td>5.5</td>\n",
              "      <td>6.8</td>\n",
              "      <td>6.5</td>\n",
              "    </tr>\n",
              "    <tr>\n",
              "      <th>3</th>\n",
              "      <td>AGO</td>\n",
              "      <td>Angola</td>\n",
              "      <td>2007</td>\n",
              "      <td>Other NS 2006-2007</td>\n",
              "      <td>Other NS 2006-2007</td>\n",
              "      <td>18</td>\n",
              "      <td>18</td>\n",
              "      <td>18</td>\n",
              "      <td>19</td>\n",
              "      <td>17</td>\n",
              "      <td>17</td>\n",
              "      <td>16</td>\n",
              "      <td>22</td>\n",
              "      <td>17</td>\n",
              "      <td>14</td>\n",
              "    </tr>\n",
              "    <tr>\n",
              "      <th>4</th>\n",
              "      <td>AGO</td>\n",
              "      <td>Angola</td>\n",
              "      <td>2011</td>\n",
              "      <td>MIS 2011</td>\n",
              "      <td>Malaria Indicator Survey 2011</td>\n",
              "      <td>25.9</td>\n",
              "      <td>25.4</td>\n",
              "      <td>26.4</td>\n",
              "      <td>24.4</td>\n",
              "      <td>28.9</td>\n",
              "      <td>11.7</td>\n",
              "      <td>17.9</td>\n",
              "      <td>23.4</td>\n",
              "      <td>31</td>\n",
              "      <td>34.2</td>\n",
              "    </tr>\n",
              "  </tbody>\n",
              "</table>\n",
              "</div>"
            ],
            "text/plain": [
              "   ISO            Countries  Year  ...  Middle  Fourth  Richest\n",
              "0  ISO  Countries and areas  Year  ...     NaN     NaN      NaN\n",
              "1  NaN                  NaN   NaN  ...  Middle  Fourth  Richest\n",
              "2  AFG          Afghanistan  2015  ...     5.5     6.8      6.5\n",
              "3  AGO               Angola  2007  ...      22      17       14\n",
              "4  AGO               Angola  2011  ...    23.4      31     34.2\n",
              "\n",
              "[5 rows x 15 columns]"
            ]
          },
          "metadata": {
            "tags": []
          },
          "execution_count": 9
        }
      ]
    },
    {
      "cell_type": "code",
      "metadata": {
        "colab": {
          "base_uri": "https://localhost:8080/",
          "height": 340
        },
        "id": "IliwR_y1mAMT",
        "outputId": "d3834822-c762-4502-a936-29b10d515e28"
      },
      "source": [
        "df_pregnant.head()"
      ],
      "execution_count": null,
      "outputs": [
        {
          "output_type": "execute_result",
          "data": {
            "text/html": [
              "<div>\n",
              "<style scoped>\n",
              "    .dataframe tbody tr th:only-of-type {\n",
              "        vertical-align: middle;\n",
              "    }\n",
              "\n",
              "    .dataframe tbody tr th {\n",
              "        vertical-align: top;\n",
              "    }\n",
              "\n",
              "    .dataframe thead th {\n",
              "        text-align: right;\n",
              "    }\n",
              "</style>\n",
              "<table border=\"1\" class=\"dataframe\">\n",
              "  <thead>\n",
              "    <tr style=\"text-align: right;\">\n",
              "      <th></th>\n",
              "      <th>Unnamed: 0</th>\n",
              "      <th>Pregnant women sleeping under insecticide-treated nets (ITNs)</th>\n",
              "      <th>Percentage of pregnant women (age 15-49) who slept under an insecticide-treated net the previous night</th>\n",
              "      <th>Unnamed: 3</th>\n",
              "      <th>Unnamed: 4</th>\n",
              "      <th>Unnamed: 5</th>\n",
              "      <th>Unnamed: 6</th>\n",
              "      <th>Unnamed: 7</th>\n",
              "      <th>Unnamed: 8</th>\n",
              "      <th>Unnamed: 9</th>\n",
              "      <th>Unnamed: 10</th>\n",
              "      <th>Unnamed: 11</th>\n",
              "      <th>Unnamed: 12</th>\n",
              "    </tr>\n",
              "  </thead>\n",
              "  <tbody>\n",
              "    <tr>\n",
              "      <th>0</th>\n",
              "      <td>ISO</td>\n",
              "      <td>Countries and areas</td>\n",
              "      <td>Year</td>\n",
              "      <td>Short Source</td>\n",
              "      <td>Long Source</td>\n",
              "      <td>National</td>\n",
              "      <td>Area</td>\n",
              "      <td>NaN</td>\n",
              "      <td>WIQ</td>\n",
              "      <td>NaN</td>\n",
              "      <td>NaN</td>\n",
              "      <td>NaN</td>\n",
              "      <td>NaN</td>\n",
              "    </tr>\n",
              "    <tr>\n",
              "      <th>1</th>\n",
              "      <td>NaN</td>\n",
              "      <td>NaN</td>\n",
              "      <td>NaN</td>\n",
              "      <td>NaN</td>\n",
              "      <td>NaN</td>\n",
              "      <td>NaN</td>\n",
              "      <td>Rural</td>\n",
              "      <td>Urban</td>\n",
              "      <td>Poorest</td>\n",
              "      <td>Second</td>\n",
              "      <td>Middle</td>\n",
              "      <td>Fourth</td>\n",
              "      <td>Richest</td>\n",
              "    </tr>\n",
              "    <tr>\n",
              "      <th>2</th>\n",
              "      <td>AFG</td>\n",
              "      <td>Afghanistan</td>\n",
              "      <td>2015</td>\n",
              "      <td>DHS 2015</td>\n",
              "      <td>Demographic and Health Survey 2015</td>\n",
              "      <td>4.1</td>\n",
              "      <td>3.4</td>\n",
              "      <td>8</td>\n",
              "      <td>0.8</td>\n",
              "      <td>3</td>\n",
              "      <td>4.6</td>\n",
              "      <td>5.2</td>\n",
              "      <td>9.3</td>\n",
              "    </tr>\n",
              "    <tr>\n",
              "      <th>3</th>\n",
              "      <td>AGO</td>\n",
              "      <td>Angola</td>\n",
              "      <td>2007</td>\n",
              "      <td>MIS 2006-2007</td>\n",
              "      <td>Malaria Indicator Survey 2006-2007</td>\n",
              "      <td>22</td>\n",
              "      <td>26.4</td>\n",
              "      <td>14.8</td>\n",
              "      <td>23</td>\n",
              "      <td>24.3</td>\n",
              "      <td>26.9</td>\n",
              "      <td>14.4</td>\n",
              "      <td>NaN</td>\n",
              "    </tr>\n",
              "    <tr>\n",
              "      <th>4</th>\n",
              "      <td>AGO</td>\n",
              "      <td>Angola</td>\n",
              "      <td>2011</td>\n",
              "      <td>MIS 2011</td>\n",
              "      <td>Malaria Indicator Survey 2011</td>\n",
              "      <td>25.6</td>\n",
              "      <td>24.5</td>\n",
              "      <td>28.1</td>\n",
              "      <td>13.9</td>\n",
              "      <td>20.2</td>\n",
              "      <td>21.1</td>\n",
              "      <td>28.5</td>\n",
              "      <td>33.2</td>\n",
              "    </tr>\n",
              "  </tbody>\n",
              "</table>\n",
              "</div>"
            ],
            "text/plain": [
              "  Unnamed: 0  ... Unnamed: 12\n",
              "0        ISO  ...         NaN\n",
              "1        NaN  ...     Richest\n",
              "2        AFG  ...         9.3\n",
              "3        AGO  ...         NaN\n",
              "4        AGO  ...        33.2\n",
              "\n",
              "[5 rows x 13 columns]"
            ]
          },
          "metadata": {
            "tags": []
          },
          "execution_count": 10
        }
      ]
    },
    {
      "cell_type": "code",
      "metadata": {
        "id": "L-4JUFYslzKj"
      },
      "source": [
        "_#Procedure: Renaming columns on pregnant dataset\n",
        "df_pregnant.rename(columns = {'Unnamed: 0':'ISO','Pregnant women sleeping under insecticide-treated nets (ITNs) ':'Countries and areas','Percentage of pregnant women (age 15-49) who slept under an insecticide-treated net the previous night':'Year','Unnamed: 5':'National','Unnamed: 6':'Rural','Unnamed: 7':'Urban','Unnamed: 8':'Poorest','Unnamed: 9':'Second','Unnamed: 10':'Middle','Unnamed: 11':'Fourth','Unnamed: 12':'Richest'}, inplace = True)"
      ],
      "execution_count": null,
      "outputs": []
    },
    {
      "cell_type": "code",
      "metadata": {
        "id": "Yr6UPYET0WC5"
      },
      "source": [
        "# dropping rows that are irrelevant\n",
        "df_household.drop([0,1],inplace = True)"
      ],
      "execution_count": null,
      "outputs": []
    },
    {
      "cell_type": "code",
      "metadata": {
        "id": "xr16bGy21uCJ"
      },
      "source": [
        "# dropping rows that are irrelevant\n",
        "df_children.drop([0,1],inplace = True)"
      ],
      "execution_count": null,
      "outputs": []
    },
    {
      "cell_type": "code",
      "metadata": {
        "id": "Eqq2XP3r2KiR"
      },
      "source": [
        "df_pregnant.drop([0,1],inplace = True)"
      ],
      "execution_count": null,
      "outputs": []
    },
    {
      "cell_type": "code",
      "metadata": {
        "id": "wRe4piVp2WZg"
      },
      "source": [
        "#restting index for rows\n",
        "df_household.reset_index(drop = True,inplace =True)"
      ],
      "execution_count": null,
      "outputs": []
    },
    {
      "cell_type": "code",
      "metadata": {
        "id": "YSygDc9A2vCo"
      },
      "source": [
        "df_pregnant.reset_index(drop = True, inplace =True)"
      ],
      "execution_count": null,
      "outputs": []
    },
    {
      "cell_type": "code",
      "metadata": {
        "id": "gGuueaNf2yWY"
      },
      "source": [
        "df_children.reset_index(drop = True,inplace = True)"
      ],
      "execution_count": null,
      "outputs": []
    },
    {
      "cell_type": "code",
      "metadata": {
        "id": "EcqowGUZmVMz",
        "colab": {
          "base_uri": "https://localhost:8080/",
          "height": 204
        },
        "outputId": "8e39adad-5b53-4bff-aee0-3bac8df8a844"
      },
      "source": [
        "# Procedure 1: Irrelevant Observation\n",
        "# Dropping columns \n",
        "# Explanation:We do not need them or they do not in fit the context of the problem\n",
        "df_children.drop(columns = {'Unnamed: 3','Unnamed: 4','Male','Female'},inplace =True)\n",
        "df_children.head()"
      ],
      "execution_count": null,
      "outputs": [
        {
          "output_type": "execute_result",
          "data": {
            "text/html": [
              "<div>\n",
              "<style scoped>\n",
              "    .dataframe tbody tr th:only-of-type {\n",
              "        vertical-align: middle;\n",
              "    }\n",
              "\n",
              "    .dataframe tbody tr th {\n",
              "        vertical-align: top;\n",
              "    }\n",
              "\n",
              "    .dataframe thead th {\n",
              "        text-align: right;\n",
              "    }\n",
              "</style>\n",
              "<table border=\"1\" class=\"dataframe\">\n",
              "  <thead>\n",
              "    <tr style=\"text-align: right;\">\n",
              "      <th></th>\n",
              "      <th>ISO</th>\n",
              "      <th>Countries</th>\n",
              "      <th>Year</th>\n",
              "      <th>National</th>\n",
              "      <th>Rural</th>\n",
              "      <th>Urban</th>\n",
              "      <th>Poorest</th>\n",
              "      <th>Second</th>\n",
              "      <th>Middle</th>\n",
              "      <th>Fourth</th>\n",
              "      <th>Richest</th>\n",
              "    </tr>\n",
              "  </thead>\n",
              "  <tbody>\n",
              "    <tr>\n",
              "      <th>0</th>\n",
              "      <td>AFG</td>\n",
              "      <td>Afghanistan</td>\n",
              "      <td>2015</td>\n",
              "      <td>4.6</td>\n",
              "      <td>4.2</td>\n",
              "      <td>6.1</td>\n",
              "      <td>1.1</td>\n",
              "      <td>3.3</td>\n",
              "      <td>5.5</td>\n",
              "      <td>6.8</td>\n",
              "      <td>6.5</td>\n",
              "    </tr>\n",
              "    <tr>\n",
              "      <th>1</th>\n",
              "      <td>AGO</td>\n",
              "      <td>Angola</td>\n",
              "      <td>2007</td>\n",
              "      <td>18</td>\n",
              "      <td>19</td>\n",
              "      <td>17</td>\n",
              "      <td>17</td>\n",
              "      <td>16</td>\n",
              "      <td>22</td>\n",
              "      <td>17</td>\n",
              "      <td>14</td>\n",
              "    </tr>\n",
              "    <tr>\n",
              "      <th>2</th>\n",
              "      <td>AGO</td>\n",
              "      <td>Angola</td>\n",
              "      <td>2011</td>\n",
              "      <td>25.9</td>\n",
              "      <td>24.4</td>\n",
              "      <td>28.9</td>\n",
              "      <td>11.7</td>\n",
              "      <td>17.9</td>\n",
              "      <td>23.4</td>\n",
              "      <td>31</td>\n",
              "      <td>34.2</td>\n",
              "    </tr>\n",
              "    <tr>\n",
              "      <th>3</th>\n",
              "      <td>AGO</td>\n",
              "      <td>Angola</td>\n",
              "      <td>2016</td>\n",
              "      <td>21.7</td>\n",
              "      <td>19.7</td>\n",
              "      <td>23</td>\n",
              "      <td>16.8</td>\n",
              "      <td>23.1</td>\n",
              "      <td>23.9</td>\n",
              "      <td>23</td>\n",
              "      <td>22</td>\n",
              "    </tr>\n",
              "    <tr>\n",
              "      <th>4</th>\n",
              "      <td>AZE</td>\n",
              "      <td>Azerbaijan</td>\n",
              "      <td>2000</td>\n",
              "      <td>1</td>\n",
              "      <td>2</td>\n",
              "      <td>1</td>\n",
              "      <td>2</td>\n",
              "      <td>2</td>\n",
              "      <td>2</td>\n",
              "      <td>NaN</td>\n",
              "      <td>1</td>\n",
              "    </tr>\n",
              "  </tbody>\n",
              "</table>\n",
              "</div>"
            ],
            "text/plain": [
              "   ISO    Countries  Year National Rural  ... Poorest Second Middle Fourth Richest\n",
              "0  AFG  Afghanistan  2015      4.6   4.2  ...     1.1    3.3    5.5    6.8     6.5\n",
              "1  AGO       Angola  2007       18    19  ...      17     16     22     17      14\n",
              "2  AGO       Angola  2011     25.9  24.4  ...    11.7   17.9   23.4     31    34.2\n",
              "3  AGO       Angola  2016     21.7  19.7  ...    16.8   23.1   23.9     23      22\n",
              "4  AZE   Azerbaijan  2000        1     2  ...       2      2      2    NaN       1\n",
              "\n",
              "[5 rows x 11 columns]"
            ]
          },
          "metadata": {
            "tags": []
          },
          "execution_count": 18
        }
      ]
    },
    {
      "cell_type": "code",
      "metadata": {
        "id": "mqMxWtNpnJrL",
        "colab": {
          "base_uri": "https://localhost:8080/",
          "height": 204
        },
        "outputId": "d8a33842-4f9a-41dc-f30b-eef29b19f124"
      },
      "source": [
        "# Dropping columns \n",
        "# Explanation:We do not need them or they do not in fit the context of the problem\n",
        "df_household.drop(columns = {'Unnamed: 3','Unnamed: 4'},inplace =True)\n",
        "df_household.head()"
      ],
      "execution_count": null,
      "outputs": [
        {
          "output_type": "execute_result",
          "data": {
            "text/html": [
              "<div>\n",
              "<style scoped>\n",
              "    .dataframe tbody tr th:only-of-type {\n",
              "        vertical-align: middle;\n",
              "    }\n",
              "\n",
              "    .dataframe tbody tr th {\n",
              "        vertical-align: top;\n",
              "    }\n",
              "\n",
              "    .dataframe thead th {\n",
              "        text-align: right;\n",
              "    }\n",
              "</style>\n",
              "<table border=\"1\" class=\"dataframe\">\n",
              "  <thead>\n",
              "    <tr style=\"text-align: right;\">\n",
              "      <th></th>\n",
              "      <th>ISO</th>\n",
              "      <th>Countries and areas</th>\n",
              "      <th>Year</th>\n",
              "      <th>National</th>\n",
              "      <th>Rural</th>\n",
              "      <th>Urban</th>\n",
              "      <th>Poorest</th>\n",
              "      <th>Second</th>\n",
              "      <th>Middle</th>\n",
              "      <th>Fourth</th>\n",
              "      <th>Richest</th>\n",
              "    </tr>\n",
              "  </thead>\n",
              "  <tbody>\n",
              "    <tr>\n",
              "      <th>0</th>\n",
              "      <td>AFG</td>\n",
              "      <td>Afghanistan</td>\n",
              "      <td>2015</td>\n",
              "      <td>26</td>\n",
              "      <td>28.7</td>\n",
              "      <td>18.2</td>\n",
              "      <td>21.2</td>\n",
              "      <td>28.2</td>\n",
              "      <td>29.5</td>\n",
              "      <td>31.5</td>\n",
              "      <td>19.6</td>\n",
              "    </tr>\n",
              "    <tr>\n",
              "      <th>1</th>\n",
              "      <td>AGO</td>\n",
              "      <td>Angola</td>\n",
              "      <td>2007</td>\n",
              "      <td>28</td>\n",
              "      <td>26</td>\n",
              "      <td>29</td>\n",
              "      <td>26</td>\n",
              "      <td>22</td>\n",
              "      <td>33</td>\n",
              "      <td>29</td>\n",
              "      <td>31</td>\n",
              "    </tr>\n",
              "    <tr>\n",
              "      <th>2</th>\n",
              "      <td>AGO</td>\n",
              "      <td>Angola</td>\n",
              "      <td>2011</td>\n",
              "      <td>34.5</td>\n",
              "      <td>31.8</td>\n",
              "      <td>39</td>\n",
              "      <td>14.8</td>\n",
              "      <td>22.8</td>\n",
              "      <td>32.6</td>\n",
              "      <td>41.8</td>\n",
              "      <td>44.4</td>\n",
              "    </tr>\n",
              "    <tr>\n",
              "      <th>3</th>\n",
              "      <td>AGO</td>\n",
              "      <td>Angola</td>\n",
              "      <td>2016</td>\n",
              "      <td>30.9</td>\n",
              "      <td>31.6</td>\n",
              "      <td>30.4</td>\n",
              "      <td>27.5</td>\n",
              "      <td>33.8</td>\n",
              "      <td>34.8</td>\n",
              "      <td>30.7</td>\n",
              "      <td>26.9</td>\n",
              "    </tr>\n",
              "    <tr>\n",
              "      <th>4</th>\n",
              "      <td>BDI</td>\n",
              "      <td>Burundi</td>\n",
              "      <td>2005</td>\n",
              "      <td>8</td>\n",
              "      <td>6</td>\n",
              "      <td>34</td>\n",
              "      <td>4</td>\n",
              "      <td>5</td>\n",
              "      <td>6</td>\n",
              "      <td>7</td>\n",
              "      <td>19</td>\n",
              "    </tr>\n",
              "  </tbody>\n",
              "</table>\n",
              "</div>"
            ],
            "text/plain": [
              "   ISO Countries and areas  Year National  ... Second Middle Fourth Richest\n",
              "0  AFG         Afghanistan  2015       26  ...   28.2   29.5   31.5    19.6\n",
              "1  AGO              Angola  2007       28  ...     22     33     29      31\n",
              "2  AGO              Angola  2011     34.5  ...   22.8   32.6   41.8    44.4\n",
              "3  AGO              Angola  2016     30.9  ...   33.8   34.8   30.7    26.9\n",
              "4  BDI             Burundi  2005        8  ...      5      6      7      19\n",
              "\n",
              "[5 rows x 11 columns]"
            ]
          },
          "metadata": {
            "tags": []
          },
          "execution_count": 19
        }
      ]
    },
    {
      "cell_type": "code",
      "metadata": {
        "id": "5I7jluMlnPjz",
        "colab": {
          "base_uri": "https://localhost:8080/",
          "height": 204
        },
        "outputId": "ea91bf3d-c294-4ada-b34c-af3881db8f91"
      },
      "source": [
        "# Dropping columns \n",
        "# Explanation:We do not need them or they do not in fit the context of the problem\n",
        "df_pregnant.drop(columns = {'Unnamed: 3','Unnamed: 4'},inplace = True)\n",
        "df_pregnant.head()"
      ],
      "execution_count": null,
      "outputs": [
        {
          "output_type": "execute_result",
          "data": {
            "text/html": [
              "<div>\n",
              "<style scoped>\n",
              "    .dataframe tbody tr th:only-of-type {\n",
              "        vertical-align: middle;\n",
              "    }\n",
              "\n",
              "    .dataframe tbody tr th {\n",
              "        vertical-align: top;\n",
              "    }\n",
              "\n",
              "    .dataframe thead th {\n",
              "        text-align: right;\n",
              "    }\n",
              "</style>\n",
              "<table border=\"1\" class=\"dataframe\">\n",
              "  <thead>\n",
              "    <tr style=\"text-align: right;\">\n",
              "      <th></th>\n",
              "      <th>ISO</th>\n",
              "      <th>Countries and areas</th>\n",
              "      <th>Year</th>\n",
              "      <th>National</th>\n",
              "      <th>Rural</th>\n",
              "      <th>Urban</th>\n",
              "      <th>Poorest</th>\n",
              "      <th>Second</th>\n",
              "      <th>Middle</th>\n",
              "      <th>Fourth</th>\n",
              "      <th>Richest</th>\n",
              "    </tr>\n",
              "  </thead>\n",
              "  <tbody>\n",
              "    <tr>\n",
              "      <th>0</th>\n",
              "      <td>AFG</td>\n",
              "      <td>Afghanistan</td>\n",
              "      <td>2015</td>\n",
              "      <td>4.1</td>\n",
              "      <td>3.4</td>\n",
              "      <td>8</td>\n",
              "      <td>0.8</td>\n",
              "      <td>3</td>\n",
              "      <td>4.6</td>\n",
              "      <td>5.2</td>\n",
              "      <td>9.3</td>\n",
              "    </tr>\n",
              "    <tr>\n",
              "      <th>1</th>\n",
              "      <td>AGO</td>\n",
              "      <td>Angola</td>\n",
              "      <td>2007</td>\n",
              "      <td>22</td>\n",
              "      <td>26.4</td>\n",
              "      <td>14.8</td>\n",
              "      <td>23</td>\n",
              "      <td>24.3</td>\n",
              "      <td>26.9</td>\n",
              "      <td>14.4</td>\n",
              "      <td>NaN</td>\n",
              "    </tr>\n",
              "    <tr>\n",
              "      <th>2</th>\n",
              "      <td>AGO</td>\n",
              "      <td>Angola</td>\n",
              "      <td>2011</td>\n",
              "      <td>25.6</td>\n",
              "      <td>24.5</td>\n",
              "      <td>28.1</td>\n",
              "      <td>13.9</td>\n",
              "      <td>20.2</td>\n",
              "      <td>21.1</td>\n",
              "      <td>28.5</td>\n",
              "      <td>33.2</td>\n",
              "    </tr>\n",
              "    <tr>\n",
              "      <th>3</th>\n",
              "      <td>AGO</td>\n",
              "      <td>Angola</td>\n",
              "      <td>2016</td>\n",
              "      <td>23</td>\n",
              "      <td>26.7</td>\n",
              "      <td>20.5</td>\n",
              "      <td>18.3</td>\n",
              "      <td>33.7</td>\n",
              "      <td>27.4</td>\n",
              "      <td>15.3</td>\n",
              "      <td>15.9</td>\n",
              "    </tr>\n",
              "    <tr>\n",
              "      <th>4</th>\n",
              "      <td>BDI</td>\n",
              "      <td>Burundi</td>\n",
              "      <td>2010</td>\n",
              "      <td>49.7</td>\n",
              "      <td>48.1</td>\n",
              "      <td>65.4</td>\n",
              "      <td>45.2</td>\n",
              "      <td>44.7</td>\n",
              "      <td>57.4</td>\n",
              "      <td>46</td>\n",
              "      <td>56.4</td>\n",
              "    </tr>\n",
              "  </tbody>\n",
              "</table>\n",
              "</div>"
            ],
            "text/plain": [
              "   ISO Countries and areas  Year National  ... Second Middle Fourth Richest\n",
              "0  AFG         Afghanistan  2015      4.1  ...      3    4.6    5.2     9.3\n",
              "1  AGO              Angola  2007       22  ...   24.3   26.9   14.4     NaN\n",
              "2  AGO              Angola  2011     25.6  ...   20.2   21.1   28.5    33.2\n",
              "3  AGO              Angola  2016       23  ...   33.7   27.4   15.3    15.9\n",
              "4  BDI             Burundi  2010     49.7  ...   44.7   57.4     46    56.4\n",
              "\n",
              "[5 rows x 11 columns]"
            ]
          },
          "metadata": {
            "tags": []
          },
          "execution_count": 20
        }
      ]
    },
    {
      "cell_type": "code",
      "metadata": {
        "id": "losX7S_BnQPz"
      },
      "source": [
        "# Procedure: Outliers\n",
        "# Data Cleaning Action: none\n",
        "# Explanation:None\n"
      ],
      "execution_count": null,
      "outputs": []
    },
    {
      "cell_type": "markdown",
      "metadata": {
        "id": "9yYNJlXDniDd"
      },
      "source": [
        " **Completeness**"
      ]
    },
    {
      "cell_type": "code",
      "metadata": {
        "id": "YyxFg7kGnk72",
        "colab": {
          "base_uri": "https://localhost:8080/"
        },
        "outputId": "9b968639-6c79-4e7a-e0cd-c5339025f791"
      },
      "source": [
        "# Procedure: Missing values\n",
        "# Explanation:Checking how many missing values there are across each column\n",
        "df_household.isnull().sum()"
      ],
      "execution_count": null,
      "outputs": [
        {
          "output_type": "execute_result",
          "data": {
            "text/plain": [
              "ISO                     0\n",
              "Countries and areas     0\n",
              "Year                    0\n",
              "National                0\n",
              "Rural                   9\n",
              "Urban                  10\n",
              "Poorest                21\n",
              "Second                 20\n",
              "Middle                 21\n",
              "Fourth                 21\n",
              "Richest                22\n",
              "dtype: int64"
            ]
          },
          "metadata": {
            "tags": []
          },
          "execution_count": 22
        }
      ]
    },
    {
      "cell_type": "code",
      "metadata": {
        "colab": {
          "base_uri": "https://localhost:8080/"
        },
        "id": "f1Up_onu6S80",
        "outputId": "4bed3419-d270-4449-bb97-00517a483c1e"
      },
      "source": [
        "df_children.isnull().sum()"
      ],
      "execution_count": null,
      "outputs": [
        {
          "output_type": "execute_result",
          "data": {
            "text/plain": [
              "ISO           0\n",
              "Countries     0\n",
              "Year          0\n",
              "National      1\n",
              "Rural        18\n",
              "Urban        13\n",
              "Poorest      41\n",
              "Second       41\n",
              "Middle       39\n",
              "Fourth       37\n",
              "Richest      33\n",
              "dtype: int64"
            ]
          },
          "metadata": {
            "tags": []
          },
          "execution_count": 23
        }
      ]
    },
    {
      "cell_type": "code",
      "metadata": {
        "colab": {
          "base_uri": "https://localhost:8080/"
        },
        "id": "3hBcDTJm6VLA",
        "outputId": "088d64b1-343d-437f-f248-860e0da2f387"
      },
      "source": [
        "df_pregnant.isnull().sum()"
      ],
      "execution_count": null,
      "outputs": [
        {
          "output_type": "execute_result",
          "data": {
            "text/plain": [
              "ISO                     0\n",
              "Countries and areas     0\n",
              "Year                    0\n",
              "National                1\n",
              "Rural                   2\n",
              "Urban                   5\n",
              "Poorest                 9\n",
              "Second                  8\n",
              "Middle                 10\n",
              "Fourth                  9\n",
              "Richest                11\n",
              "dtype: int64"
            ]
          },
          "metadata": {
            "tags": []
          },
          "execution_count": 24
        }
      ]
    },
    {
      "cell_type": "code",
      "metadata": {
        "id": "Rufi3CZ46sM4"
      },
      "source": [
        "# Dealing with missing values\n",
        "# Household \n",
        "df_household.fillna(0 , inplace = True)\n"
      ],
      "execution_count": null,
      "outputs": []
    },
    {
      "cell_type": "code",
      "metadata": {
        "colab": {
          "base_uri": "https://localhost:8080/"
        },
        "id": "6sHwLwEP8gso",
        "outputId": "5c268ed1-b9b7-43b2-94cc-e77f9c5571d3"
      },
      "source": [
        "#checking if null values have been dropped\n",
        "df_household.isnull().sum().sum()"
      ],
      "execution_count": null,
      "outputs": [
        {
          "output_type": "execute_result",
          "data": {
            "text/plain": [
              "0"
            ]
          },
          "metadata": {
            "tags": []
          },
          "execution_count": 26
        }
      ]
    },
    {
      "cell_type": "code",
      "metadata": {
        "id": "PzaK9RGm89kZ"
      },
      "source": [
        "# Dealing with missing values\n",
        "# Children\n",
        "df_children.fillna(0 , inplace = True)"
      ],
      "execution_count": null,
      "outputs": []
    },
    {
      "cell_type": "code",
      "metadata": {
        "colab": {
          "base_uri": "https://localhost:8080/"
        },
        "id": "kbCbqruQ9Efv",
        "outputId": "9ba4dad0-de33-4f55-b8c3-629985dd7ffe"
      },
      "source": [
        "#checking if null values have been dropped\n",
        "df_children.isnull().sum().sum()"
      ],
      "execution_count": null,
      "outputs": [
        {
          "output_type": "execute_result",
          "data": {
            "text/plain": [
              "0"
            ]
          },
          "metadata": {
            "tags": []
          },
          "execution_count": 28
        }
      ]
    },
    {
      "cell_type": "code",
      "metadata": {
        "id": "7C7f8vRK9HpA"
      },
      "source": [
        "# Dealing with missing values\n",
        "# Pregnant\n",
        "df_pregnant.fillna(0 , inplace = True)"
      ],
      "execution_count": null,
      "outputs": []
    },
    {
      "cell_type": "code",
      "metadata": {
        "colab": {
          "base_uri": "https://localhost:8080/"
        },
        "id": "cPyLXp1s9Mq4",
        "outputId": "e9c2bc93-532c-4e70-fa26-c615db0565dd"
      },
      "source": [
        "#checking if null values have been dropped\n",
        "df_pregnant.isnull().sum().sum()"
      ],
      "execution_count": null,
      "outputs": [
        {
          "output_type": "execute_result",
          "data": {
            "text/plain": [
              "0"
            ]
          },
          "metadata": {
            "tags": []
          },
          "execution_count": 30
        }
      ]
    },
    {
      "cell_type": "markdown",
      "metadata": {
        "id": "cG1I-kaUohS6"
      },
      "source": [
        "**Consistency**"
      ]
    },
    {
      "cell_type": "code",
      "metadata": {
        "id": "l2SAc_JjofaL",
        "colab": {
          "base_uri": "https://localhost:8080/"
        },
        "outputId": "4949b4e6-5be5-4a7d-a026-5bf0a88f7453"
      },
      "source": [
        "# Procedure 1: Duplicates\n",
        "# Checking for duplicates\n",
        "# Explanation: They are repetitions in our dataset\n",
        "df_household.duplicated().sum()"
      ],
      "execution_count": null,
      "outputs": [
        {
          "output_type": "execute_result",
          "data": {
            "text/plain": [
              "0"
            ]
          },
          "metadata": {
            "tags": []
          },
          "execution_count": 31
        }
      ]
    },
    {
      "cell_type": "code",
      "metadata": {
        "colab": {
          "base_uri": "https://localhost:8080/"
        },
        "id": "oxCZxE1oOK7t",
        "outputId": "b36fb94c-581e-47e6-8f20-8e7bf8e25658"
      },
      "source": [
        "# Checking for duplicates\n",
        "df_children.duplicated().sum()"
      ],
      "execution_count": null,
      "outputs": [
        {
          "output_type": "execute_result",
          "data": {
            "text/plain": [
              "0"
            ]
          },
          "metadata": {
            "tags": []
          },
          "execution_count": 32
        }
      ]
    },
    {
      "cell_type": "code",
      "metadata": {
        "colab": {
          "base_uri": "https://localhost:8080/"
        },
        "id": "4Iy0OS5YOXcv",
        "outputId": "c2a9f47c-654f-4cf1-ee72-785735f3ea25"
      },
      "source": [
        "# Checking for duplicates\n",
        "df_pregnant.duplicated().sum()"
      ],
      "execution_count": null,
      "outputs": [
        {
          "output_type": "execute_result",
          "data": {
            "text/plain": [
              "0"
            ]
          },
          "metadata": {
            "tags": []
          },
          "execution_count": 33
        }
      ]
    },
    {
      "cell_type": "markdown",
      "metadata": {
        "id": "G-9iggazPCTI"
      },
      "source": [
        "**There are no duplicates in our data set**"
      ]
    },
    {
      "cell_type": "markdown",
      "metadata": {
        "id": "IHTuFpzwotSE"
      },
      "source": [
        "**Uniformity**"
      ]
    },
    {
      "cell_type": "code",
      "metadata": {
        "id": "M_bfbyeNoqFb"
      },
      "source": [
        "# Renaming column name in Household data set\n",
        "df_household.rename(columns = {'Countries and areas':'Countries'},inplace =True)"
      ],
      "execution_count": null,
      "outputs": []
    },
    {
      "cell_type": "code",
      "metadata": {
        "id": "JgXZK0UhP80x"
      },
      "source": [
        "df_pregnant.rename(columns = {'Countries and areas':'Countries'},inplace = True)"
      ],
      "execution_count": null,
      "outputs": []
    },
    {
      "cell_type": "code",
      "metadata": {
        "colab": {
          "base_uri": "https://localhost:8080/",
          "height": 419
        },
        "id": "npBTQt5VaHN8",
        "outputId": "26a53d56-b052-4519-a064-2a39fea80e01"
      },
      "source": [
        "# Merging table children and pregnant\n",
        "df = pd.concat([df_children,df_pregnant], ignore_index=True)\n",
        "df"
      ],
      "execution_count": null,
      "outputs": [
        {
          "output_type": "execute_result",
          "data": {
            "text/html": [
              "<div>\n",
              "<style scoped>\n",
              "    .dataframe tbody tr th:only-of-type {\n",
              "        vertical-align: middle;\n",
              "    }\n",
              "\n",
              "    .dataframe tbody tr th {\n",
              "        vertical-align: top;\n",
              "    }\n",
              "\n",
              "    .dataframe thead th {\n",
              "        text-align: right;\n",
              "    }\n",
              "</style>\n",
              "<table border=\"1\" class=\"dataframe\">\n",
              "  <thead>\n",
              "    <tr style=\"text-align: right;\">\n",
              "      <th></th>\n",
              "      <th>ISO</th>\n",
              "      <th>Countries</th>\n",
              "      <th>Year</th>\n",
              "      <th>National</th>\n",
              "      <th>Rural</th>\n",
              "      <th>Urban</th>\n",
              "      <th>Poorest</th>\n",
              "      <th>Second</th>\n",
              "      <th>Middle</th>\n",
              "      <th>Fourth</th>\n",
              "      <th>Richest</th>\n",
              "    </tr>\n",
              "  </thead>\n",
              "  <tbody>\n",
              "    <tr>\n",
              "      <th>0</th>\n",
              "      <td>AFG</td>\n",
              "      <td>Afghanistan</td>\n",
              "      <td>2015</td>\n",
              "      <td>4.6</td>\n",
              "      <td>4.2</td>\n",
              "      <td>6.1</td>\n",
              "      <td>1.1</td>\n",
              "      <td>3.3</td>\n",
              "      <td>5.5</td>\n",
              "      <td>6.8</td>\n",
              "      <td>6.5</td>\n",
              "    </tr>\n",
              "    <tr>\n",
              "      <th>1</th>\n",
              "      <td>AGO</td>\n",
              "      <td>Angola</td>\n",
              "      <td>2007</td>\n",
              "      <td>18.0</td>\n",
              "      <td>19.0</td>\n",
              "      <td>17.0</td>\n",
              "      <td>17.0</td>\n",
              "      <td>16.0</td>\n",
              "      <td>22.0</td>\n",
              "      <td>17.0</td>\n",
              "      <td>14.0</td>\n",
              "    </tr>\n",
              "    <tr>\n",
              "      <th>2</th>\n",
              "      <td>AGO</td>\n",
              "      <td>Angola</td>\n",
              "      <td>2011</td>\n",
              "      <td>25.9</td>\n",
              "      <td>24.4</td>\n",
              "      <td>28.9</td>\n",
              "      <td>11.7</td>\n",
              "      <td>17.9</td>\n",
              "      <td>23.4</td>\n",
              "      <td>31.0</td>\n",
              "      <td>34.2</td>\n",
              "    </tr>\n",
              "    <tr>\n",
              "      <th>3</th>\n",
              "      <td>AGO</td>\n",
              "      <td>Angola</td>\n",
              "      <td>2016</td>\n",
              "      <td>21.7</td>\n",
              "      <td>19.7</td>\n",
              "      <td>23.0</td>\n",
              "      <td>16.8</td>\n",
              "      <td>23.1</td>\n",
              "      <td>23.9</td>\n",
              "      <td>23.0</td>\n",
              "      <td>22.0</td>\n",
              "    </tr>\n",
              "    <tr>\n",
              "      <th>4</th>\n",
              "      <td>AZE</td>\n",
              "      <td>Azerbaijan</td>\n",
              "      <td>2000</td>\n",
              "      <td>1.0</td>\n",
              "      <td>2.0</td>\n",
              "      <td>1.0</td>\n",
              "      <td>2.0</td>\n",
              "      <td>2.0</td>\n",
              "      <td>2.0</td>\n",
              "      <td>0.0</td>\n",
              "      <td>1.0</td>\n",
              "    </tr>\n",
              "    <tr>\n",
              "      <th>...</th>\n",
              "      <td>...</td>\n",
              "      <td>...</td>\n",
              "      <td>...</td>\n",
              "      <td>...</td>\n",
              "      <td>...</td>\n",
              "      <td>...</td>\n",
              "      <td>...</td>\n",
              "      <td>...</td>\n",
              "      <td>...</td>\n",
              "      <td>...</td>\n",
              "      <td>...</td>\n",
              "    </tr>\n",
              "    <tr>\n",
              "      <th>395</th>\n",
              "      <td>ZMB</td>\n",
              "      <td>Zambia</td>\n",
              "      <td>2018</td>\n",
              "      <td>71.1</td>\n",
              "      <td>74.1</td>\n",
              "      <td>63.1</td>\n",
              "      <td>87.1</td>\n",
              "      <td>79.0</td>\n",
              "      <td>72.8</td>\n",
              "      <td>62.1</td>\n",
              "      <td>56.8</td>\n",
              "    </tr>\n",
              "    <tr>\n",
              "      <th>396</th>\n",
              "      <td>ZWE</td>\n",
              "      <td>Zimbabwe</td>\n",
              "      <td>2006</td>\n",
              "      <td>3.2</td>\n",
              "      <td>2.2</td>\n",
              "      <td>6.1</td>\n",
              "      <td>0.7</td>\n",
              "      <td>1.0</td>\n",
              "      <td>2.6</td>\n",
              "      <td>5.7</td>\n",
              "      <td>8.0</td>\n",
              "    </tr>\n",
              "    <tr>\n",
              "      <th>397</th>\n",
              "      <td>ZWE</td>\n",
              "      <td>Zimbabwe</td>\n",
              "      <td>2011</td>\n",
              "      <td>9.6</td>\n",
              "      <td>10.1</td>\n",
              "      <td>8.6</td>\n",
              "      <td>12.2</td>\n",
              "      <td>8.6</td>\n",
              "      <td>8.9</td>\n",
              "      <td>7.3</td>\n",
              "      <td>11.9</td>\n",
              "    </tr>\n",
              "    <tr>\n",
              "      <th>398</th>\n",
              "      <td>ZWE</td>\n",
              "      <td>Zimbabwe</td>\n",
              "      <td>2014</td>\n",
              "      <td>24.9</td>\n",
              "      <td>28.9</td>\n",
              "      <td>15.0</td>\n",
              "      <td>33.6</td>\n",
              "      <td>35.0</td>\n",
              "      <td>28.6</td>\n",
              "      <td>29.1</td>\n",
              "      <td>18.1</td>\n",
              "    </tr>\n",
              "    <tr>\n",
              "      <th>399</th>\n",
              "      <td>ZWE</td>\n",
              "      <td>Zimbabwe</td>\n",
              "      <td>2015</td>\n",
              "      <td>6.1</td>\n",
              "      <td>6.8</td>\n",
              "      <td>4.6</td>\n",
              "      <td>7.0</td>\n",
              "      <td>8.4</td>\n",
              "      <td>4.0</td>\n",
              "      <td>6.0</td>\n",
              "      <td>4.3</td>\n",
              "    </tr>\n",
              "  </tbody>\n",
              "</table>\n",
              "<p>400 rows × 11 columns</p>\n",
              "</div>"
            ],
            "text/plain": [
              "     ISO    Countries  Year  National  ...  Second  Middle  Fourth  Richest\n",
              "0    AFG  Afghanistan  2015       4.6  ...     3.3     5.5     6.8      6.5\n",
              "1    AGO       Angola  2007      18.0  ...    16.0    22.0    17.0     14.0\n",
              "2    AGO       Angola  2011      25.9  ...    17.9    23.4    31.0     34.2\n",
              "3    AGO       Angola  2016      21.7  ...    23.1    23.9    23.0     22.0\n",
              "4    AZE   Azerbaijan  2000       1.0  ...     2.0     2.0     0.0      1.0\n",
              "..   ...          ...   ...       ...  ...     ...     ...     ...      ...\n",
              "395  ZMB       Zambia  2018      71.1  ...    79.0    72.8    62.1     56.8\n",
              "396  ZWE     Zimbabwe  2006       3.2  ...     1.0     2.6     5.7      8.0\n",
              "397  ZWE     Zimbabwe  2011       9.6  ...     8.6     8.9     7.3     11.9\n",
              "398  ZWE     Zimbabwe  2014      24.9  ...    35.0    28.6    29.1     18.1\n",
              "399  ZWE     Zimbabwe  2015       6.1  ...     8.4     4.0     6.0      4.3\n",
              "\n",
              "[400 rows x 11 columns]"
            ]
          },
          "metadata": {
            "tags": []
          },
          "execution_count": 36
        }
      ]
    },
    {
      "cell_type": "code",
      "metadata": {
        "colab": {
          "base_uri": "https://localhost:8080/"
        },
        "id": "cxSfPxpMcesz",
        "outputId": "6385c0e5-7042-4f58-8930-59bf9fb1d746"
      },
      "source": [
        "# Checking if new table has null values\n",
        "df.isnull().sum().sum()"
      ],
      "execution_count": null,
      "outputs": [
        {
          "output_type": "execute_result",
          "data": {
            "text/plain": [
              "0"
            ]
          },
          "metadata": {
            "tags": []
          },
          "execution_count": 37
        }
      ]
    },
    {
      "cell_type": "code",
      "metadata": {
        "colab": {
          "base_uri": "https://localhost:8080/",
          "height": 419
        },
        "id": "4LreHS1UctfX",
        "outputId": "e4223cf2-6ca6-4c4c-8df4-9f6cab31aec3"
      },
      "source": [
        "# Merging ddatasets with households\n",
        "df_table = pd.concat([df,df_household], ignore_index=True)\n",
        "df_table"
      ],
      "execution_count": null,
      "outputs": [
        {
          "output_type": "execute_result",
          "data": {
            "text/html": [
              "<div>\n",
              "<style scoped>\n",
              "    .dataframe tbody tr th:only-of-type {\n",
              "        vertical-align: middle;\n",
              "    }\n",
              "\n",
              "    .dataframe tbody tr th {\n",
              "        vertical-align: top;\n",
              "    }\n",
              "\n",
              "    .dataframe thead th {\n",
              "        text-align: right;\n",
              "    }\n",
              "</style>\n",
              "<table border=\"1\" class=\"dataframe\">\n",
              "  <thead>\n",
              "    <tr style=\"text-align: right;\">\n",
              "      <th></th>\n",
              "      <th>ISO</th>\n",
              "      <th>Countries</th>\n",
              "      <th>Year</th>\n",
              "      <th>National</th>\n",
              "      <th>Rural</th>\n",
              "      <th>Urban</th>\n",
              "      <th>Poorest</th>\n",
              "      <th>Second</th>\n",
              "      <th>Middle</th>\n",
              "      <th>Fourth</th>\n",
              "      <th>Richest</th>\n",
              "    </tr>\n",
              "  </thead>\n",
              "  <tbody>\n",
              "    <tr>\n",
              "      <th>0</th>\n",
              "      <td>AFG</td>\n",
              "      <td>Afghanistan</td>\n",
              "      <td>2015</td>\n",
              "      <td>4.6</td>\n",
              "      <td>4.2</td>\n",
              "      <td>6.1</td>\n",
              "      <td>1.1</td>\n",
              "      <td>3.3</td>\n",
              "      <td>5.5</td>\n",
              "      <td>6.8</td>\n",
              "      <td>6.5</td>\n",
              "    </tr>\n",
              "    <tr>\n",
              "      <th>1</th>\n",
              "      <td>AGO</td>\n",
              "      <td>Angola</td>\n",
              "      <td>2007</td>\n",
              "      <td>18.0</td>\n",
              "      <td>19.0</td>\n",
              "      <td>17.0</td>\n",
              "      <td>17.0</td>\n",
              "      <td>16.0</td>\n",
              "      <td>22.0</td>\n",
              "      <td>17.0</td>\n",
              "      <td>14.0</td>\n",
              "    </tr>\n",
              "    <tr>\n",
              "      <th>2</th>\n",
              "      <td>AGO</td>\n",
              "      <td>Angola</td>\n",
              "      <td>2011</td>\n",
              "      <td>25.9</td>\n",
              "      <td>24.4</td>\n",
              "      <td>28.9</td>\n",
              "      <td>11.7</td>\n",
              "      <td>17.9</td>\n",
              "      <td>23.4</td>\n",
              "      <td>31.0</td>\n",
              "      <td>34.2</td>\n",
              "    </tr>\n",
              "    <tr>\n",
              "      <th>3</th>\n",
              "      <td>AGO</td>\n",
              "      <td>Angola</td>\n",
              "      <td>2016</td>\n",
              "      <td>21.7</td>\n",
              "      <td>19.7</td>\n",
              "      <td>23.0</td>\n",
              "      <td>16.8</td>\n",
              "      <td>23.1</td>\n",
              "      <td>23.9</td>\n",
              "      <td>23.0</td>\n",
              "      <td>22.0</td>\n",
              "    </tr>\n",
              "    <tr>\n",
              "      <th>4</th>\n",
              "      <td>AZE</td>\n",
              "      <td>Azerbaijan</td>\n",
              "      <td>2000</td>\n",
              "      <td>1.0</td>\n",
              "      <td>2.0</td>\n",
              "      <td>1.0</td>\n",
              "      <td>2.0</td>\n",
              "      <td>2.0</td>\n",
              "      <td>2.0</td>\n",
              "      <td>0.0</td>\n",
              "      <td>1.0</td>\n",
              "    </tr>\n",
              "    <tr>\n",
              "      <th>...</th>\n",
              "      <td>...</td>\n",
              "      <td>...</td>\n",
              "      <td>...</td>\n",
              "      <td>...</td>\n",
              "      <td>...</td>\n",
              "      <td>...</td>\n",
              "      <td>...</td>\n",
              "      <td>...</td>\n",
              "      <td>...</td>\n",
              "      <td>...</td>\n",
              "      <td>...</td>\n",
              "    </tr>\n",
              "    <tr>\n",
              "      <th>612</th>\n",
              "      <td>ZWE</td>\n",
              "      <td>Zimbabwe</td>\n",
              "      <td>2009</td>\n",
              "      <td>27.4</td>\n",
              "      <td>28.2</td>\n",
              "      <td>25.8</td>\n",
              "      <td>27.1</td>\n",
              "      <td>29.5</td>\n",
              "      <td>25.3</td>\n",
              "      <td>26.1</td>\n",
              "      <td>29.3</td>\n",
              "    </tr>\n",
              "    <tr>\n",
              "      <th>613</th>\n",
              "      <td>ZWE</td>\n",
              "      <td>Zimbabwe</td>\n",
              "      <td>2011</td>\n",
              "      <td>28.8</td>\n",
              "      <td>31.6</td>\n",
              "      <td>23.2</td>\n",
              "      <td>35.1</td>\n",
              "      <td>29.7</td>\n",
              "      <td>28.9</td>\n",
              "      <td>24.4</td>\n",
              "      <td>26.8</td>\n",
              "    </tr>\n",
              "    <tr>\n",
              "      <th>614</th>\n",
              "      <td>ZWE</td>\n",
              "      <td>Zimbabwe</td>\n",
              "      <td>2014</td>\n",
              "      <td>42.2</td>\n",
              "      <td>47.7</td>\n",
              "      <td>29.7</td>\n",
              "      <td>58.3</td>\n",
              "      <td>48.1</td>\n",
              "      <td>41.8</td>\n",
              "      <td>35.7</td>\n",
              "      <td>31.7</td>\n",
              "    </tr>\n",
              "    <tr>\n",
              "      <th>615</th>\n",
              "      <td>ZWE</td>\n",
              "      <td>Zimbabwe</td>\n",
              "      <td>2015</td>\n",
              "      <td>47.9</td>\n",
              "      <td>55.7</td>\n",
              "      <td>32.4</td>\n",
              "      <td>52.7</td>\n",
              "      <td>54.6</td>\n",
              "      <td>58.6</td>\n",
              "      <td>38.1</td>\n",
              "      <td>38.2</td>\n",
              "    </tr>\n",
              "    <tr>\n",
              "      <th>616</th>\n",
              "      <td>ZWE</td>\n",
              "      <td>Zimbabwe</td>\n",
              "      <td>2019</td>\n",
              "      <td>36.8</td>\n",
              "      <td>40.9</td>\n",
              "      <td>28.9</td>\n",
              "      <td>34.5</td>\n",
              "      <td>39.8</td>\n",
              "      <td>44.2</td>\n",
              "      <td>35.5</td>\n",
              "      <td>30.3</td>\n",
              "    </tr>\n",
              "  </tbody>\n",
              "</table>\n",
              "<p>617 rows × 11 columns</p>\n",
              "</div>"
            ],
            "text/plain": [
              "     ISO    Countries  Year  National  ...  Second  Middle  Fourth  Richest\n",
              "0    AFG  Afghanistan  2015       4.6  ...     3.3     5.5     6.8      6.5\n",
              "1    AGO       Angola  2007      18.0  ...    16.0    22.0    17.0     14.0\n",
              "2    AGO       Angola  2011      25.9  ...    17.9    23.4    31.0     34.2\n",
              "3    AGO       Angola  2016      21.7  ...    23.1    23.9    23.0     22.0\n",
              "4    AZE   Azerbaijan  2000       1.0  ...     2.0     2.0     0.0      1.0\n",
              "..   ...          ...   ...       ...  ...     ...     ...     ...      ...\n",
              "612  ZWE     Zimbabwe  2009      27.4  ...    29.5    25.3    26.1     29.3\n",
              "613  ZWE     Zimbabwe  2011      28.8  ...    29.7    28.9    24.4     26.8\n",
              "614  ZWE     Zimbabwe  2014      42.2  ...    48.1    41.8    35.7     31.7\n",
              "615  ZWE     Zimbabwe  2015      47.9  ...    54.6    58.6    38.1     38.2\n",
              "616  ZWE     Zimbabwe  2019      36.8  ...    39.8    44.2    35.5     30.3\n",
              "\n",
              "[617 rows x 11 columns]"
            ]
          },
          "metadata": {
            "tags": []
          },
          "execution_count": 38
        }
      ]
    },
    {
      "cell_type": "code",
      "metadata": {
        "colab": {
          "base_uri": "https://localhost:8080/"
        },
        "id": "yaks7JmQnueQ",
        "outputId": "1d529215-3421-4d37-ff53-96cc0b8391d4"
      },
      "source": [
        "df_table.isnull().sum().sum()"
      ],
      "execution_count": null,
      "outputs": [
        {
          "output_type": "execute_result",
          "data": {
            "text/plain": [
              "0"
            ]
          },
          "metadata": {
            "tags": []
          },
          "execution_count": 39
        }
      ]
    },
    {
      "cell_type": "code",
      "metadata": {
        "colab": {
          "base_uri": "https://localhost:8080/"
        },
        "id": "-cEp1_DQdmDD",
        "outputId": "ae34fd4f-590b-40b0-f973-5a30f7debab6"
      },
      "source": [
        "# Check duplicated values for new created tables\n",
        "df_table.duplicated().sum()"
      ],
      "execution_count": null,
      "outputs": [
        {
          "output_type": "execute_result",
          "data": {
            "text/plain": [
              "0"
            ]
          },
          "metadata": {
            "tags": []
          },
          "execution_count": 40
        }
      ]
    },
    {
      "cell_type": "code",
      "metadata": {
        "colab": {
          "base_uri": "https://localhost:8080/",
          "height": 415
        },
        "id": "DqqyFnn12nnR",
        "outputId": "910b339c-d434-42cc-e050-5b812e0b05e8"
      },
      "source": [
        "df_children"
      ],
      "execution_count": null,
      "outputs": [
        {
          "output_type": "execute_result",
          "data": {
            "text/html": [
              "<div>\n",
              "<style scoped>\n",
              "    .dataframe tbody tr th:only-of-type {\n",
              "        vertical-align: middle;\n",
              "    }\n",
              "\n",
              "    .dataframe tbody tr th {\n",
              "        vertical-align: top;\n",
              "    }\n",
              "\n",
              "    .dataframe thead th {\n",
              "        text-align: right;\n",
              "    }\n",
              "</style>\n",
              "<table border=\"1\" class=\"dataframe\">\n",
              "  <thead>\n",
              "    <tr style=\"text-align: right;\">\n",
              "      <th></th>\n",
              "      <th>ISO</th>\n",
              "      <th>Countries</th>\n",
              "      <th>Year</th>\n",
              "      <th>National</th>\n",
              "      <th>Rural</th>\n",
              "      <th>Urban</th>\n",
              "      <th>Poorest</th>\n",
              "      <th>Second</th>\n",
              "      <th>Middle</th>\n",
              "      <th>Fourth</th>\n",
              "      <th>Richest</th>\n",
              "    </tr>\n",
              "  </thead>\n",
              "  <tbody>\n",
              "    <tr>\n",
              "      <th>0</th>\n",
              "      <td>AFG</td>\n",
              "      <td>Afghanistan</td>\n",
              "      <td>2015</td>\n",
              "      <td>4.6</td>\n",
              "      <td>4.2</td>\n",
              "      <td>6.1</td>\n",
              "      <td>1.1</td>\n",
              "      <td>3.3</td>\n",
              "      <td>5.5</td>\n",
              "      <td>6.8</td>\n",
              "      <td>6.5</td>\n",
              "    </tr>\n",
              "    <tr>\n",
              "      <th>1</th>\n",
              "      <td>AGO</td>\n",
              "      <td>Angola</td>\n",
              "      <td>2007</td>\n",
              "      <td>18.0</td>\n",
              "      <td>19.0</td>\n",
              "      <td>17.0</td>\n",
              "      <td>17.0</td>\n",
              "      <td>16.0</td>\n",
              "      <td>22.0</td>\n",
              "      <td>17.0</td>\n",
              "      <td>14.0</td>\n",
              "    </tr>\n",
              "    <tr>\n",
              "      <th>2</th>\n",
              "      <td>AGO</td>\n",
              "      <td>Angola</td>\n",
              "      <td>2011</td>\n",
              "      <td>25.9</td>\n",
              "      <td>24.4</td>\n",
              "      <td>28.9</td>\n",
              "      <td>11.7</td>\n",
              "      <td>17.9</td>\n",
              "      <td>23.4</td>\n",
              "      <td>31.0</td>\n",
              "      <td>34.2</td>\n",
              "    </tr>\n",
              "    <tr>\n",
              "      <th>3</th>\n",
              "      <td>AGO</td>\n",
              "      <td>Angola</td>\n",
              "      <td>2016</td>\n",
              "      <td>21.7</td>\n",
              "      <td>19.7</td>\n",
              "      <td>23.0</td>\n",
              "      <td>16.8</td>\n",
              "      <td>23.1</td>\n",
              "      <td>23.9</td>\n",
              "      <td>23.0</td>\n",
              "      <td>22.0</td>\n",
              "    </tr>\n",
              "    <tr>\n",
              "      <th>4</th>\n",
              "      <td>AZE</td>\n",
              "      <td>Azerbaijan</td>\n",
              "      <td>2000</td>\n",
              "      <td>1.0</td>\n",
              "      <td>2.0</td>\n",
              "      <td>1.0</td>\n",
              "      <td>2.0</td>\n",
              "      <td>2.0</td>\n",
              "      <td>2.0</td>\n",
              "      <td>0.0</td>\n",
              "      <td>1.0</td>\n",
              "    </tr>\n",
              "    <tr>\n",
              "      <th>...</th>\n",
              "      <td>...</td>\n",
              "      <td>...</td>\n",
              "      <td>...</td>\n",
              "      <td>...</td>\n",
              "      <td>...</td>\n",
              "      <td>...</td>\n",
              "      <td>...</td>\n",
              "      <td>...</td>\n",
              "      <td>...</td>\n",
              "      <td>...</td>\n",
              "      <td>...</td>\n",
              "    </tr>\n",
              "    <tr>\n",
              "      <th>242</th>\n",
              "      <td>ZWE</td>\n",
              "      <td>Zimbabwe</td>\n",
              "      <td>2009</td>\n",
              "      <td>17.3</td>\n",
              "      <td>17.5</td>\n",
              "      <td>17.1</td>\n",
              "      <td>19.1</td>\n",
              "      <td>17.5</td>\n",
              "      <td>15.6</td>\n",
              "      <td>16.4</td>\n",
              "      <td>17.7</td>\n",
              "    </tr>\n",
              "    <tr>\n",
              "      <th>243</th>\n",
              "      <td>ZWE</td>\n",
              "      <td>Zimbabwe</td>\n",
              "      <td>2011</td>\n",
              "      <td>9.7</td>\n",
              "      <td>9.5</td>\n",
              "      <td>10.3</td>\n",
              "      <td>9.7</td>\n",
              "      <td>9.2</td>\n",
              "      <td>9.5</td>\n",
              "      <td>9.4</td>\n",
              "      <td>11.2</td>\n",
              "    </tr>\n",
              "    <tr>\n",
              "      <th>244</th>\n",
              "      <td>ZWE</td>\n",
              "      <td>Zimbabwe</td>\n",
              "      <td>2014</td>\n",
              "      <td>26.8</td>\n",
              "      <td>30.2</td>\n",
              "      <td>17.4</td>\n",
              "      <td>34.5</td>\n",
              "      <td>30.0</td>\n",
              "      <td>26.8</td>\n",
              "      <td>22.5</td>\n",
              "      <td>17.8</td>\n",
              "    </tr>\n",
              "    <tr>\n",
              "      <th>245</th>\n",
              "      <td>ZWE</td>\n",
              "      <td>Zimbabwe</td>\n",
              "      <td>2015</td>\n",
              "      <td>9.0</td>\n",
              "      <td>9.5</td>\n",
              "      <td>7.7</td>\n",
              "      <td>9.5</td>\n",
              "      <td>10.1</td>\n",
              "      <td>9.9</td>\n",
              "      <td>7.4</td>\n",
              "      <td>7.7</td>\n",
              "    </tr>\n",
              "    <tr>\n",
              "      <th>246</th>\n",
              "      <td>ZWE</td>\n",
              "      <td>Zimbabwe</td>\n",
              "      <td>2019</td>\n",
              "      <td>14.9</td>\n",
              "      <td>16.3</td>\n",
              "      <td>11.6</td>\n",
              "      <td>14.9</td>\n",
              "      <td>16.8</td>\n",
              "      <td>16.1</td>\n",
              "      <td>16.2</td>\n",
              "      <td>9.7</td>\n",
              "    </tr>\n",
              "  </tbody>\n",
              "</table>\n",
              "<p>247 rows × 11 columns</p>\n",
              "</div>"
            ],
            "text/plain": [
              "     ISO    Countries  Year  National  ...  Second  Middle  Fourth  Richest\n",
              "0    AFG  Afghanistan  2015       4.6  ...     3.3     5.5     6.8      6.5\n",
              "1    AGO       Angola  2007      18.0  ...    16.0    22.0    17.0     14.0\n",
              "2    AGO       Angola  2011      25.9  ...    17.9    23.4    31.0     34.2\n",
              "3    AGO       Angola  2016      21.7  ...    23.1    23.9    23.0     22.0\n",
              "4    AZE   Azerbaijan  2000       1.0  ...     2.0     2.0     0.0      1.0\n",
              "..   ...          ...   ...       ...  ...     ...     ...     ...      ...\n",
              "242  ZWE     Zimbabwe  2009      17.3  ...    17.5    15.6    16.4     17.7\n",
              "243  ZWE     Zimbabwe  2011       9.7  ...     9.2     9.5     9.4     11.2\n",
              "244  ZWE     Zimbabwe  2014      26.8  ...    30.0    26.8    22.5     17.8\n",
              "245  ZWE     Zimbabwe  2015       9.0  ...    10.1     9.9     7.4      7.7\n",
              "246  ZWE     Zimbabwe  2019      14.9  ...    16.8    16.1    16.2      9.7\n",
              "\n",
              "[247 rows x 11 columns]"
            ]
          },
          "metadata": {
            "tags": []
          },
          "execution_count": 52
        }
      ]
    },
    {
      "cell_type": "markdown",
      "metadata": {
        "id": "b8uqdE96ozj1"
      },
      "source": [
        "# Answering Research Questions"
      ]
    },
    {
      "cell_type": "markdown",
      "metadata": {
        "id": "Zc54rWbEs3Di"
      },
      "source": [
        "Analysis"
      ]
    },
    {
      "cell_type": "code",
      "metadata": {
        "id": "S4R9vewWefde",
        "colab": {
          "base_uri": "https://localhost:8080/",
          "height": 435
        },
        "outputId": "0a642a15-b9b5-4955-aed9-1b1baf1530b6"
      },
      "source": [
        "df_table"
      ],
      "execution_count": null,
      "outputs": [
        {
          "output_type": "execute_result",
          "data": {
            "text/html": [
              "<div>\n",
              "<style scoped>\n",
              "    .dataframe tbody tr th:only-of-type {\n",
              "        vertical-align: middle;\n",
              "    }\n",
              "\n",
              "    .dataframe tbody tr th {\n",
              "        vertical-align: top;\n",
              "    }\n",
              "\n",
              "    .dataframe thead th {\n",
              "        text-align: right;\n",
              "    }\n",
              "</style>\n",
              "<table border=\"1\" class=\"dataframe\">\n",
              "  <thead>\n",
              "    <tr style=\"text-align: right;\">\n",
              "      <th></th>\n",
              "      <th>ISO</th>\n",
              "      <th>Countries</th>\n",
              "      <th>Year</th>\n",
              "      <th>National</th>\n",
              "      <th>Rural</th>\n",
              "      <th>Urban</th>\n",
              "      <th>Poorest</th>\n",
              "      <th>Second</th>\n",
              "      <th>Middle</th>\n",
              "      <th>Fourth</th>\n",
              "      <th>Richest</th>\n",
              "    </tr>\n",
              "  </thead>\n",
              "  <tbody>\n",
              "    <tr>\n",
              "      <th>0</th>\n",
              "      <td>AFG</td>\n",
              "      <td>Afghanistan</td>\n",
              "      <td>2015</td>\n",
              "      <td>4.6</td>\n",
              "      <td>4.2</td>\n",
              "      <td>6.1</td>\n",
              "      <td>1.1</td>\n",
              "      <td>3.3</td>\n",
              "      <td>5.5</td>\n",
              "      <td>6.8</td>\n",
              "      <td>6.5</td>\n",
              "    </tr>\n",
              "    <tr>\n",
              "      <th>1</th>\n",
              "      <td>AGO</td>\n",
              "      <td>Angola</td>\n",
              "      <td>2007</td>\n",
              "      <td>18.0</td>\n",
              "      <td>19.0</td>\n",
              "      <td>17.0</td>\n",
              "      <td>17.0</td>\n",
              "      <td>16.0</td>\n",
              "      <td>22.0</td>\n",
              "      <td>17.0</td>\n",
              "      <td>14.0</td>\n",
              "    </tr>\n",
              "    <tr>\n",
              "      <th>2</th>\n",
              "      <td>AGO</td>\n",
              "      <td>Angola</td>\n",
              "      <td>2011</td>\n",
              "      <td>25.9</td>\n",
              "      <td>24.4</td>\n",
              "      <td>28.9</td>\n",
              "      <td>11.7</td>\n",
              "      <td>17.9</td>\n",
              "      <td>23.4</td>\n",
              "      <td>31.0</td>\n",
              "      <td>34.2</td>\n",
              "    </tr>\n",
              "    <tr>\n",
              "      <th>3</th>\n",
              "      <td>AGO</td>\n",
              "      <td>Angola</td>\n",
              "      <td>2016</td>\n",
              "      <td>21.7</td>\n",
              "      <td>19.7</td>\n",
              "      <td>23.0</td>\n",
              "      <td>16.8</td>\n",
              "      <td>23.1</td>\n",
              "      <td>23.9</td>\n",
              "      <td>23.0</td>\n",
              "      <td>22.0</td>\n",
              "    </tr>\n",
              "    <tr>\n",
              "      <th>4</th>\n",
              "      <td>AZE</td>\n",
              "      <td>Azerbaijan</td>\n",
              "      <td>2000</td>\n",
              "      <td>1.0</td>\n",
              "      <td>2.0</td>\n",
              "      <td>1.0</td>\n",
              "      <td>2.0</td>\n",
              "      <td>2.0</td>\n",
              "      <td>2.0</td>\n",
              "      <td>0.0</td>\n",
              "      <td>1.0</td>\n",
              "    </tr>\n",
              "    <tr>\n",
              "      <th>...</th>\n",
              "      <td>...</td>\n",
              "      <td>...</td>\n",
              "      <td>...</td>\n",
              "      <td>...</td>\n",
              "      <td>...</td>\n",
              "      <td>...</td>\n",
              "      <td>...</td>\n",
              "      <td>...</td>\n",
              "      <td>...</td>\n",
              "      <td>...</td>\n",
              "      <td>...</td>\n",
              "    </tr>\n",
              "    <tr>\n",
              "      <th>612</th>\n",
              "      <td>ZWE</td>\n",
              "      <td>Zimbabwe</td>\n",
              "      <td>2009</td>\n",
              "      <td>27.4</td>\n",
              "      <td>28.2</td>\n",
              "      <td>25.8</td>\n",
              "      <td>27.1</td>\n",
              "      <td>29.5</td>\n",
              "      <td>25.3</td>\n",
              "      <td>26.1</td>\n",
              "      <td>29.3</td>\n",
              "    </tr>\n",
              "    <tr>\n",
              "      <th>613</th>\n",
              "      <td>ZWE</td>\n",
              "      <td>Zimbabwe</td>\n",
              "      <td>2011</td>\n",
              "      <td>28.8</td>\n",
              "      <td>31.6</td>\n",
              "      <td>23.2</td>\n",
              "      <td>35.1</td>\n",
              "      <td>29.7</td>\n",
              "      <td>28.9</td>\n",
              "      <td>24.4</td>\n",
              "      <td>26.8</td>\n",
              "    </tr>\n",
              "    <tr>\n",
              "      <th>614</th>\n",
              "      <td>ZWE</td>\n",
              "      <td>Zimbabwe</td>\n",
              "      <td>2014</td>\n",
              "      <td>42.2</td>\n",
              "      <td>47.7</td>\n",
              "      <td>29.7</td>\n",
              "      <td>58.3</td>\n",
              "      <td>48.1</td>\n",
              "      <td>41.8</td>\n",
              "      <td>35.7</td>\n",
              "      <td>31.7</td>\n",
              "    </tr>\n",
              "    <tr>\n",
              "      <th>615</th>\n",
              "      <td>ZWE</td>\n",
              "      <td>Zimbabwe</td>\n",
              "      <td>2015</td>\n",
              "      <td>47.9</td>\n",
              "      <td>55.7</td>\n",
              "      <td>32.4</td>\n",
              "      <td>52.7</td>\n",
              "      <td>54.6</td>\n",
              "      <td>58.6</td>\n",
              "      <td>38.1</td>\n",
              "      <td>38.2</td>\n",
              "    </tr>\n",
              "    <tr>\n",
              "      <th>616</th>\n",
              "      <td>ZWE</td>\n",
              "      <td>Zimbabwe</td>\n",
              "      <td>2019</td>\n",
              "      <td>36.8</td>\n",
              "      <td>40.9</td>\n",
              "      <td>28.9</td>\n",
              "      <td>34.5</td>\n",
              "      <td>39.8</td>\n",
              "      <td>44.2</td>\n",
              "      <td>35.5</td>\n",
              "      <td>30.3</td>\n",
              "    </tr>\n",
              "  </tbody>\n",
              "</table>\n",
              "<p>617 rows × 11 columns</p>\n",
              "</div>"
            ],
            "text/plain": [
              "     ISO    Countries  Year  National  ...  Second  Middle  Fourth  Richest\n",
              "0    AFG  Afghanistan  2015       4.6  ...     3.3     5.5     6.8      6.5\n",
              "1    AGO       Angola  2007      18.0  ...    16.0    22.0    17.0     14.0\n",
              "2    AGO       Angola  2011      25.9  ...    17.9    23.4    31.0     34.2\n",
              "3    AGO       Angola  2016      21.7  ...    23.1    23.9    23.0     22.0\n",
              "4    AZE   Azerbaijan  2000       1.0  ...     2.0     2.0     0.0      1.0\n",
              "..   ...          ...   ...       ...  ...     ...     ...     ...      ...\n",
              "612  ZWE     Zimbabwe  2009      27.4  ...    29.5    25.3    26.1     29.3\n",
              "613  ZWE     Zimbabwe  2011      28.8  ...    29.7    28.9    24.4     26.8\n",
              "614  ZWE     Zimbabwe  2014      42.2  ...    48.1    41.8    35.7     31.7\n",
              "615  ZWE     Zimbabwe  2015      47.9  ...    54.6    58.6    38.1     38.2\n",
              "616  ZWE     Zimbabwe  2019      36.8  ...    39.8    44.2    35.5     30.3\n",
              "\n",
              "[617 rows x 11 columns]"
            ]
          },
          "metadata": {
            "tags": []
          },
          "execution_count": 41
        }
      ]
    },
    {
      "cell_type": "markdown",
      "metadata": {
        "id": "SsunzQVUs6-C"
      },
      "source": [
        "Children"
      ]
    },
    {
      "cell_type": "code",
      "metadata": {
        "colab": {
          "base_uri": "https://localhost:8080/",
          "height": 435
        },
        "id": "E5CDZIsqmW-K",
        "outputId": "e0c46088-8c91-437e-c3b7-c623e93e7dba"
      },
      "source": [
        "df_children"
      ],
      "execution_count": null,
      "outputs": [
        {
          "output_type": "execute_result",
          "data": {
            "text/html": [
              "<div>\n",
              "<style scoped>\n",
              "    .dataframe tbody tr th:only-of-type {\n",
              "        vertical-align: middle;\n",
              "    }\n",
              "\n",
              "    .dataframe tbody tr th {\n",
              "        vertical-align: top;\n",
              "    }\n",
              "\n",
              "    .dataframe thead th {\n",
              "        text-align: right;\n",
              "    }\n",
              "</style>\n",
              "<table border=\"1\" class=\"dataframe\">\n",
              "  <thead>\n",
              "    <tr style=\"text-align: right;\">\n",
              "      <th></th>\n",
              "      <th>ISO</th>\n",
              "      <th>Countries</th>\n",
              "      <th>Year</th>\n",
              "      <th>National</th>\n",
              "      <th>Rural</th>\n",
              "      <th>Urban</th>\n",
              "      <th>Poorest</th>\n",
              "      <th>Second</th>\n",
              "      <th>Middle</th>\n",
              "      <th>Fourth</th>\n",
              "      <th>Richest</th>\n",
              "    </tr>\n",
              "  </thead>\n",
              "  <tbody>\n",
              "    <tr>\n",
              "      <th>0</th>\n",
              "      <td>AFG</td>\n",
              "      <td>Afghanistan</td>\n",
              "      <td>2015</td>\n",
              "      <td>4.6</td>\n",
              "      <td>4.2</td>\n",
              "      <td>6.1</td>\n",
              "      <td>1.1</td>\n",
              "      <td>3.3</td>\n",
              "      <td>5.5</td>\n",
              "      <td>6.8</td>\n",
              "      <td>6.5</td>\n",
              "    </tr>\n",
              "    <tr>\n",
              "      <th>1</th>\n",
              "      <td>AGO</td>\n",
              "      <td>Angola</td>\n",
              "      <td>2007</td>\n",
              "      <td>18.0</td>\n",
              "      <td>19.0</td>\n",
              "      <td>17.0</td>\n",
              "      <td>17.0</td>\n",
              "      <td>16.0</td>\n",
              "      <td>22.0</td>\n",
              "      <td>17.0</td>\n",
              "      <td>14.0</td>\n",
              "    </tr>\n",
              "    <tr>\n",
              "      <th>2</th>\n",
              "      <td>AGO</td>\n",
              "      <td>Angola</td>\n",
              "      <td>2011</td>\n",
              "      <td>25.9</td>\n",
              "      <td>24.4</td>\n",
              "      <td>28.9</td>\n",
              "      <td>11.7</td>\n",
              "      <td>17.9</td>\n",
              "      <td>23.4</td>\n",
              "      <td>31.0</td>\n",
              "      <td>34.2</td>\n",
              "    </tr>\n",
              "    <tr>\n",
              "      <th>3</th>\n",
              "      <td>AGO</td>\n",
              "      <td>Angola</td>\n",
              "      <td>2016</td>\n",
              "      <td>21.7</td>\n",
              "      <td>19.7</td>\n",
              "      <td>23.0</td>\n",
              "      <td>16.8</td>\n",
              "      <td>23.1</td>\n",
              "      <td>23.9</td>\n",
              "      <td>23.0</td>\n",
              "      <td>22.0</td>\n",
              "    </tr>\n",
              "    <tr>\n",
              "      <th>4</th>\n",
              "      <td>AZE</td>\n",
              "      <td>Azerbaijan</td>\n",
              "      <td>2000</td>\n",
              "      <td>1.0</td>\n",
              "      <td>2.0</td>\n",
              "      <td>1.0</td>\n",
              "      <td>2.0</td>\n",
              "      <td>2.0</td>\n",
              "      <td>2.0</td>\n",
              "      <td>0.0</td>\n",
              "      <td>1.0</td>\n",
              "    </tr>\n",
              "    <tr>\n",
              "      <th>...</th>\n",
              "      <td>...</td>\n",
              "      <td>...</td>\n",
              "      <td>...</td>\n",
              "      <td>...</td>\n",
              "      <td>...</td>\n",
              "      <td>...</td>\n",
              "      <td>...</td>\n",
              "      <td>...</td>\n",
              "      <td>...</td>\n",
              "      <td>...</td>\n",
              "      <td>...</td>\n",
              "    </tr>\n",
              "    <tr>\n",
              "      <th>242</th>\n",
              "      <td>ZWE</td>\n",
              "      <td>Zimbabwe</td>\n",
              "      <td>2009</td>\n",
              "      <td>17.3</td>\n",
              "      <td>17.5</td>\n",
              "      <td>17.1</td>\n",
              "      <td>19.1</td>\n",
              "      <td>17.5</td>\n",
              "      <td>15.6</td>\n",
              "      <td>16.4</td>\n",
              "      <td>17.7</td>\n",
              "    </tr>\n",
              "    <tr>\n",
              "      <th>243</th>\n",
              "      <td>ZWE</td>\n",
              "      <td>Zimbabwe</td>\n",
              "      <td>2011</td>\n",
              "      <td>9.7</td>\n",
              "      <td>9.5</td>\n",
              "      <td>10.3</td>\n",
              "      <td>9.7</td>\n",
              "      <td>9.2</td>\n",
              "      <td>9.5</td>\n",
              "      <td>9.4</td>\n",
              "      <td>11.2</td>\n",
              "    </tr>\n",
              "    <tr>\n",
              "      <th>244</th>\n",
              "      <td>ZWE</td>\n",
              "      <td>Zimbabwe</td>\n",
              "      <td>2014</td>\n",
              "      <td>26.8</td>\n",
              "      <td>30.2</td>\n",
              "      <td>17.4</td>\n",
              "      <td>34.5</td>\n",
              "      <td>30.0</td>\n",
              "      <td>26.8</td>\n",
              "      <td>22.5</td>\n",
              "      <td>17.8</td>\n",
              "    </tr>\n",
              "    <tr>\n",
              "      <th>245</th>\n",
              "      <td>ZWE</td>\n",
              "      <td>Zimbabwe</td>\n",
              "      <td>2015</td>\n",
              "      <td>9.0</td>\n",
              "      <td>9.5</td>\n",
              "      <td>7.7</td>\n",
              "      <td>9.5</td>\n",
              "      <td>10.1</td>\n",
              "      <td>9.9</td>\n",
              "      <td>7.4</td>\n",
              "      <td>7.7</td>\n",
              "    </tr>\n",
              "    <tr>\n",
              "      <th>246</th>\n",
              "      <td>ZWE</td>\n",
              "      <td>Zimbabwe</td>\n",
              "      <td>2019</td>\n",
              "      <td>14.9</td>\n",
              "      <td>16.3</td>\n",
              "      <td>11.6</td>\n",
              "      <td>14.9</td>\n",
              "      <td>16.8</td>\n",
              "      <td>16.1</td>\n",
              "      <td>16.2</td>\n",
              "      <td>9.7</td>\n",
              "    </tr>\n",
              "  </tbody>\n",
              "</table>\n",
              "<p>247 rows × 11 columns</p>\n",
              "</div>"
            ],
            "text/plain": [
              "     ISO    Countries  Year  National  ...  Second  Middle  Fourth  Richest\n",
              "0    AFG  Afghanistan  2015       4.6  ...     3.3     5.5     6.8      6.5\n",
              "1    AGO       Angola  2007      18.0  ...    16.0    22.0    17.0     14.0\n",
              "2    AGO       Angola  2011      25.9  ...    17.9    23.4    31.0     34.2\n",
              "3    AGO       Angola  2016      21.7  ...    23.1    23.9    23.0     22.0\n",
              "4    AZE   Azerbaijan  2000       1.0  ...     2.0     2.0     0.0      1.0\n",
              "..   ...          ...   ...       ...  ...     ...     ...     ...      ...\n",
              "242  ZWE     Zimbabwe  2009      17.3  ...    17.5    15.6    16.4     17.7\n",
              "243  ZWE     Zimbabwe  2011       9.7  ...     9.2     9.5     9.4     11.2\n",
              "244  ZWE     Zimbabwe  2014      26.8  ...    30.0    26.8    22.5     17.8\n",
              "245  ZWE     Zimbabwe  2015       9.0  ...    10.1     9.9     7.4      7.7\n",
              "246  ZWE     Zimbabwe  2019      14.9  ...    16.8    16.1    16.2      9.7\n",
              "\n",
              "[247 rows x 11 columns]"
            ]
          },
          "metadata": {
            "tags": []
          },
          "execution_count": 131
        }
      ]
    },
    {
      "cell_type": "code",
      "metadata": {
        "colab": {
          "base_uri": "https://localhost:8080/"
        },
        "id": "p-y5-QW2tAoJ",
        "outputId": "6a077a36-b381-4a71-9d93-dc48a10711f7"
      },
      "source": [
        "# Which 5 countries have the lowest usage of ITNs?\n",
        "leastcountrieschildren = dict(df_children.groupby(\"Countries\")['National'].mean().sort_values(ascending=True).head())\n",
        "leastcountrieschildren"
      ],
      "execution_count": null,
      "outputs": [
        {
          "output_type": "execute_result",
          "data": {
            "text/plain": [
              "{'Azerbaijan': 1.0,\n",
              " 'Eswatini': 1.25,\n",
              " 'Guatemala': 1.0,\n",
              " 'Pakistan': 0.30000000000000004,\n",
              " 'Tajikistan': 1.0}"
            ]
          },
          "metadata": {
            "tags": []
          },
          "execution_count": 130
        }
      ]
    },
    {
      "cell_type": "code",
      "metadata": {
        "colab": {
          "base_uri": "https://localhost:8080/"
        },
        "id": "pS4fD1Z5ue9z",
        "outputId": "c4436e4a-6c35-4932-eefe-ec59dce58d5f"
      },
      "source": [
        "# Which 5 countries have the lowest usage of ITNs? in Rural areas\n",
        "leastcountrieschildrenrural = dict(df_children.groupby(by = [\"Countries\"])['Rural'].mean().sort_values(ascending=True).head())\n",
        "leastcountrieschildrenrural"
      ],
      "execution_count": null,
      "outputs": [
        {
          "output_type": "execute_result",
          "data": {
            "text/plain": [
              "{'Eswatini': 1.3,\n",
              " 'Guatemala': 0.0,\n",
              " 'Pakistan': 0.30000000000000004,\n",
              " 'Sudan': 0.0,\n",
              " 'Suriname': 0.0}"
            ]
          },
          "metadata": {
            "tags": []
          },
          "execution_count": 110
        }
      ]
    },
    {
      "cell_type": "code",
      "metadata": {
        "colab": {
          "base_uri": "https://localhost:8080/"
        },
        "id": "1PuDOeuTw9EI",
        "outputId": "69681782-45db-49cb-8644-90e4aaf87c43"
      },
      "source": [
        "# Which 5 countries have the lowest usage of ITNs? in urban areas\n",
        "leastcountrieschildrenurban = dict(df_children.groupby(\"Countries\")['Urban'].mean().sort_values(ascending=True).head())\n",
        "leastcountrieschildrenurban"
      ],
      "execution_count": null,
      "outputs": [
        {
          "output_type": "execute_result",
          "data": {
            "text/plain": [
              "{'Guatemala': 0.0,\n",
              " 'Pakistan': 0.1,\n",
              " 'Sudan': 0.0,\n",
              " 'Suriname': 0.0,\n",
              " 'Tajikistan': 0.0}"
            ]
          },
          "metadata": {
            "tags": []
          },
          "execution_count": 111
        }
      ]
    },
    {
      "cell_type": "markdown",
      "metadata": {
        "id": "wWSymI_is9eS"
      },
      "source": [
        "Pregnant women\n"
      ]
    },
    {
      "cell_type": "code",
      "metadata": {
        "colab": {
          "base_uri": "https://localhost:8080/",
          "height": 415
        },
        "id": "dIs6AUAbtBo1",
        "outputId": "1f03298d-65a2-47bc-aa31-7e92a674c2ad"
      },
      "source": [
        "df_pregnant"
      ],
      "execution_count": null,
      "outputs": [
        {
          "output_type": "execute_result",
          "data": {
            "text/html": [
              "<div>\n",
              "<style scoped>\n",
              "    .dataframe tbody tr th:only-of-type {\n",
              "        vertical-align: middle;\n",
              "    }\n",
              "\n",
              "    .dataframe tbody tr th {\n",
              "        vertical-align: top;\n",
              "    }\n",
              "\n",
              "    .dataframe thead th {\n",
              "        text-align: right;\n",
              "    }\n",
              "</style>\n",
              "<table border=\"1\" class=\"dataframe\">\n",
              "  <thead>\n",
              "    <tr style=\"text-align: right;\">\n",
              "      <th></th>\n",
              "      <th>ISO</th>\n",
              "      <th>Countries</th>\n",
              "      <th>Year</th>\n",
              "      <th>National</th>\n",
              "      <th>Rural</th>\n",
              "      <th>Urban</th>\n",
              "      <th>Poorest</th>\n",
              "      <th>Second</th>\n",
              "      <th>Middle</th>\n",
              "      <th>Fourth</th>\n",
              "      <th>Richest</th>\n",
              "    </tr>\n",
              "  </thead>\n",
              "  <tbody>\n",
              "    <tr>\n",
              "      <th>0</th>\n",
              "      <td>AFG</td>\n",
              "      <td>Afghanistan</td>\n",
              "      <td>2015</td>\n",
              "      <td>4.1</td>\n",
              "      <td>3.4</td>\n",
              "      <td>8.0</td>\n",
              "      <td>0.8</td>\n",
              "      <td>3.0</td>\n",
              "      <td>4.6</td>\n",
              "      <td>5.2</td>\n",
              "      <td>9.3</td>\n",
              "    </tr>\n",
              "    <tr>\n",
              "      <th>1</th>\n",
              "      <td>AGO</td>\n",
              "      <td>Angola</td>\n",
              "      <td>2007</td>\n",
              "      <td>22.0</td>\n",
              "      <td>26.4</td>\n",
              "      <td>14.8</td>\n",
              "      <td>23.0</td>\n",
              "      <td>24.3</td>\n",
              "      <td>26.9</td>\n",
              "      <td>14.4</td>\n",
              "      <td>0.0</td>\n",
              "    </tr>\n",
              "    <tr>\n",
              "      <th>2</th>\n",
              "      <td>AGO</td>\n",
              "      <td>Angola</td>\n",
              "      <td>2011</td>\n",
              "      <td>25.6</td>\n",
              "      <td>24.5</td>\n",
              "      <td>28.1</td>\n",
              "      <td>13.9</td>\n",
              "      <td>20.2</td>\n",
              "      <td>21.1</td>\n",
              "      <td>28.5</td>\n",
              "      <td>33.2</td>\n",
              "    </tr>\n",
              "    <tr>\n",
              "      <th>3</th>\n",
              "      <td>AGO</td>\n",
              "      <td>Angola</td>\n",
              "      <td>2016</td>\n",
              "      <td>23.0</td>\n",
              "      <td>26.7</td>\n",
              "      <td>20.5</td>\n",
              "      <td>18.3</td>\n",
              "      <td>33.7</td>\n",
              "      <td>27.4</td>\n",
              "      <td>15.3</td>\n",
              "      <td>15.9</td>\n",
              "    </tr>\n",
              "    <tr>\n",
              "      <th>4</th>\n",
              "      <td>BDI</td>\n",
              "      <td>Burundi</td>\n",
              "      <td>2010</td>\n",
              "      <td>49.7</td>\n",
              "      <td>48.1</td>\n",
              "      <td>65.4</td>\n",
              "      <td>45.2</td>\n",
              "      <td>44.7</td>\n",
              "      <td>57.4</td>\n",
              "      <td>46.0</td>\n",
              "      <td>56.4</td>\n",
              "    </tr>\n",
              "    <tr>\n",
              "      <th>...</th>\n",
              "      <td>...</td>\n",
              "      <td>...</td>\n",
              "      <td>...</td>\n",
              "      <td>...</td>\n",
              "      <td>...</td>\n",
              "      <td>...</td>\n",
              "      <td>...</td>\n",
              "      <td>...</td>\n",
              "      <td>...</td>\n",
              "      <td>...</td>\n",
              "      <td>...</td>\n",
              "    </tr>\n",
              "    <tr>\n",
              "      <th>148</th>\n",
              "      <td>ZMB</td>\n",
              "      <td>Zambia</td>\n",
              "      <td>2018</td>\n",
              "      <td>71.1</td>\n",
              "      <td>74.1</td>\n",
              "      <td>63.1</td>\n",
              "      <td>87.1</td>\n",
              "      <td>79.0</td>\n",
              "      <td>72.8</td>\n",
              "      <td>62.1</td>\n",
              "      <td>56.8</td>\n",
              "    </tr>\n",
              "    <tr>\n",
              "      <th>149</th>\n",
              "      <td>ZWE</td>\n",
              "      <td>Zimbabwe</td>\n",
              "      <td>2006</td>\n",
              "      <td>3.2</td>\n",
              "      <td>2.2</td>\n",
              "      <td>6.1</td>\n",
              "      <td>0.7</td>\n",
              "      <td>1.0</td>\n",
              "      <td>2.6</td>\n",
              "      <td>5.7</td>\n",
              "      <td>8.0</td>\n",
              "    </tr>\n",
              "    <tr>\n",
              "      <th>150</th>\n",
              "      <td>ZWE</td>\n",
              "      <td>Zimbabwe</td>\n",
              "      <td>2011</td>\n",
              "      <td>9.6</td>\n",
              "      <td>10.1</td>\n",
              "      <td>8.6</td>\n",
              "      <td>12.2</td>\n",
              "      <td>8.6</td>\n",
              "      <td>8.9</td>\n",
              "      <td>7.3</td>\n",
              "      <td>11.9</td>\n",
              "    </tr>\n",
              "    <tr>\n",
              "      <th>151</th>\n",
              "      <td>ZWE</td>\n",
              "      <td>Zimbabwe</td>\n",
              "      <td>2014</td>\n",
              "      <td>24.9</td>\n",
              "      <td>28.9</td>\n",
              "      <td>15.0</td>\n",
              "      <td>33.6</td>\n",
              "      <td>35.0</td>\n",
              "      <td>28.6</td>\n",
              "      <td>29.1</td>\n",
              "      <td>18.1</td>\n",
              "    </tr>\n",
              "    <tr>\n",
              "      <th>152</th>\n",
              "      <td>ZWE</td>\n",
              "      <td>Zimbabwe</td>\n",
              "      <td>2015</td>\n",
              "      <td>6.1</td>\n",
              "      <td>6.8</td>\n",
              "      <td>4.6</td>\n",
              "      <td>7.0</td>\n",
              "      <td>8.4</td>\n",
              "      <td>4.0</td>\n",
              "      <td>6.0</td>\n",
              "      <td>4.3</td>\n",
              "    </tr>\n",
              "  </tbody>\n",
              "</table>\n",
              "<p>153 rows × 11 columns</p>\n",
              "</div>"
            ],
            "text/plain": [
              "     ISO    Countries  Year  National  ...  Second  Middle  Fourth  Richest\n",
              "0    AFG  Afghanistan  2015       4.1  ...     3.0     4.6     5.2      9.3\n",
              "1    AGO       Angola  2007      22.0  ...    24.3    26.9    14.4      0.0\n",
              "2    AGO       Angola  2011      25.6  ...    20.2    21.1    28.5     33.2\n",
              "3    AGO       Angola  2016      23.0  ...    33.7    27.4    15.3     15.9\n",
              "4    BDI      Burundi  2010      49.7  ...    44.7    57.4    46.0     56.4\n",
              "..   ...          ...   ...       ...  ...     ...     ...     ...      ...\n",
              "148  ZMB       Zambia  2018      71.1  ...    79.0    72.8    62.1     56.8\n",
              "149  ZWE     Zimbabwe  2006       3.2  ...     1.0     2.6     5.7      8.0\n",
              "150  ZWE     Zimbabwe  2011       9.6  ...     8.6     8.9     7.3     11.9\n",
              "151  ZWE     Zimbabwe  2014      24.9  ...    35.0    28.6    29.1     18.1\n",
              "152  ZWE     Zimbabwe  2015       6.1  ...     8.4     4.0     6.0      4.3\n",
              "\n",
              "[153 rows x 11 columns]"
            ]
          },
          "metadata": {
            "tags": []
          },
          "execution_count": 58
        }
      ]
    },
    {
      "cell_type": "code",
      "metadata": {
        "colab": {
          "base_uri": "https://localhost:8080/"
        },
        "id": "7_UyyojIxidD",
        "outputId": "c8a11379-06e5-42c0-d54b-fda4da13b1e2"
      },
      "source": [
        "# Which 5 countries have the lowest usage of ITNs?\n",
        "leastcountriespregnant = dict(df_pregnant.groupby('Countries')['Rural'].mean().sort_values(ascending=False).head())\n",
        "leastcountriespregnant"
      ],
      "execution_count": null,
      "outputs": [
        {
          "output_type": "execute_result",
          "data": {
            "text/plain": [
              "{\"Côte d'Ivoire\": 57.15,\n",
              " 'Kiribati': 85.1,\n",
              " 'Madagascar': 58.63333333333333,\n",
              " 'Mali': 67.0,\n",
              " 'Togo': 60.025}"
            ]
          },
          "metadata": {
            "tags": []
          },
          "execution_count": 112
        }
      ]
    },
    {
      "cell_type": "code",
      "metadata": {
        "colab": {
          "base_uri": "https://localhost:8080/"
        },
        "id": "BR8WuviRx7xk",
        "outputId": "937208d8-88d0-4e3f-c97c-a39977a909b3"
      },
      "source": [
        "# Which 5 countries have the lowest usage of ITNs? in Rural areas\n",
        "leastcountriespregnantrural = dict(df_pregnant.groupby(by = [\"Countries\"])['Rural'].mean().sort_values(ascending=True).head())\n",
        "leastcountriespregnantrural "
      ],
      "execution_count": null,
      "outputs": [
        {
          "output_type": "execute_result",
          "data": {
            "text/plain": [
              "{'Afghanistan': 3.4,\n",
              " 'Eritrea': 2.1,\n",
              " 'Eswatini': 1.5,\n",
              " 'Ethiopia': 0.8,\n",
              " 'Pakistan': 0.4}"
            ]
          },
          "metadata": {
            "tags": []
          },
          "execution_count": 113
        }
      ]
    },
    {
      "cell_type": "code",
      "metadata": {
        "colab": {
          "base_uri": "https://localhost:8080/"
        },
        "id": "pezr-0Cz6kXJ",
        "outputId": "a45f827c-4ca2-40f9-d661-acf32d679e69"
      },
      "source": [
        "# Which 5 countries have the lowest usage of ITNs? in urban areas\n",
        "leastcountriespregnanturban = dict(df_pregnant.groupby(\"Countries\")['Urban'].mean().sort_values(ascending=True).head())\n",
        "leastcountriespregnanturban"
      ],
      "execution_count": null,
      "outputs": [
        {
          "output_type": "execute_result",
          "data": {
            "text/plain": [
              "{'Cambodia': 1.7,\n",
              " 'Eswatini': 0.4,\n",
              " 'Indonesia': 1.1,\n",
              " 'Pakistan': 0.3,\n",
              " 'Sri Lanka': 0.0}"
            ]
          },
          "metadata": {
            "tags": []
          },
          "execution_count": 88
        }
      ]
    },
    {
      "cell_type": "code",
      "metadata": {
        "colab": {
          "base_uri": "https://localhost:8080/",
          "height": 638
        },
        "id": "GVVt_FuD-Zui",
        "outputId": "f4120b2f-e9f7-4f6f-81f6-48558aef4a48"
      },
      "source": [
        "# create a dataframe and add all dictionary values\n",
        "y = pd.DataFrame({'leastcountrieschildren':pd.Series(leastcountrieschildren),'leastcountrieschildrenrural':pd.Series(leastcountrieschildrenrural), 'leastcountrieschildrenurban':pd.Series(leastcountrieschildrenurban), 'leastcountriespregnant':pd.Series(leastcountriespregnant), 'leastcountriespregnantrural':pd.Series(leastcountriespregnantrural), 'leastcountriespregnanturban':pd.Series(leastcountriespregnanturban)})\n",
        "y"
      ],
      "execution_count": null,
      "outputs": [
        {
          "output_type": "execute_result",
          "data": {
            "text/html": [
              "<div>\n",
              "<style scoped>\n",
              "    .dataframe tbody tr th:only-of-type {\n",
              "        vertical-align: middle;\n",
              "    }\n",
              "\n",
              "    .dataframe tbody tr th {\n",
              "        vertical-align: top;\n",
              "    }\n",
              "\n",
              "    .dataframe thead th {\n",
              "        text-align: right;\n",
              "    }\n",
              "</style>\n",
              "<table border=\"1\" class=\"dataframe\">\n",
              "  <thead>\n",
              "    <tr style=\"text-align: right;\">\n",
              "      <th></th>\n",
              "      <th>leastcountrieschildren</th>\n",
              "      <th>leastcountrieschildrenrural</th>\n",
              "      <th>leastcountrieschildrenurban</th>\n",
              "      <th>leastcountriespregnant</th>\n",
              "      <th>leastcountriespregnantrural</th>\n",
              "      <th>leastcountriespregnanturban</th>\n",
              "    </tr>\n",
              "  </thead>\n",
              "  <tbody>\n",
              "    <tr>\n",
              "      <th>Afghanistan</th>\n",
              "      <td>NaN</td>\n",
              "      <td>NaN</td>\n",
              "      <td>NaN</td>\n",
              "      <td>NaN</td>\n",
              "      <td>3.4</td>\n",
              "      <td>NaN</td>\n",
              "    </tr>\n",
              "    <tr>\n",
              "      <th>Azerbaijan</th>\n",
              "      <td>1.0</td>\n",
              "      <td>NaN</td>\n",
              "      <td>NaN</td>\n",
              "      <td>NaN</td>\n",
              "      <td>NaN</td>\n",
              "      <td>NaN</td>\n",
              "    </tr>\n",
              "    <tr>\n",
              "      <th>Cambodia</th>\n",
              "      <td>NaN</td>\n",
              "      <td>NaN</td>\n",
              "      <td>NaN</td>\n",
              "      <td>NaN</td>\n",
              "      <td>NaN</td>\n",
              "      <td>1.7</td>\n",
              "    </tr>\n",
              "    <tr>\n",
              "      <th>Côte d'Ivoire</th>\n",
              "      <td>NaN</td>\n",
              "      <td>NaN</td>\n",
              "      <td>NaN</td>\n",
              "      <td>57.150000</td>\n",
              "      <td>NaN</td>\n",
              "      <td>NaN</td>\n",
              "    </tr>\n",
              "    <tr>\n",
              "      <th>Eritrea</th>\n",
              "      <td>NaN</td>\n",
              "      <td>NaN</td>\n",
              "      <td>NaN</td>\n",
              "      <td>NaN</td>\n",
              "      <td>2.1</td>\n",
              "      <td>NaN</td>\n",
              "    </tr>\n",
              "    <tr>\n",
              "      <th>Eswatini</th>\n",
              "      <td>1.3</td>\n",
              "      <td>1.3</td>\n",
              "      <td>NaN</td>\n",
              "      <td>NaN</td>\n",
              "      <td>1.5</td>\n",
              "      <td>0.4</td>\n",
              "    </tr>\n",
              "    <tr>\n",
              "      <th>Ethiopia</th>\n",
              "      <td>NaN</td>\n",
              "      <td>NaN</td>\n",
              "      <td>NaN</td>\n",
              "      <td>NaN</td>\n",
              "      <td>0.8</td>\n",
              "      <td>NaN</td>\n",
              "    </tr>\n",
              "    <tr>\n",
              "      <th>Guatemala</th>\n",
              "      <td>0.0</td>\n",
              "      <td>0.0</td>\n",
              "      <td>0.0</td>\n",
              "      <td>NaN</td>\n",
              "      <td>NaN</td>\n",
              "      <td>NaN</td>\n",
              "    </tr>\n",
              "    <tr>\n",
              "      <th>Indonesia</th>\n",
              "      <td>NaN</td>\n",
              "      <td>NaN</td>\n",
              "      <td>NaN</td>\n",
              "      <td>NaN</td>\n",
              "      <td>NaN</td>\n",
              "      <td>1.1</td>\n",
              "    </tr>\n",
              "    <tr>\n",
              "      <th>Kiribati</th>\n",
              "      <td>NaN</td>\n",
              "      <td>NaN</td>\n",
              "      <td>NaN</td>\n",
              "      <td>85.100000</td>\n",
              "      <td>NaN</td>\n",
              "      <td>NaN</td>\n",
              "    </tr>\n",
              "    <tr>\n",
              "      <th>Madagascar</th>\n",
              "      <td>NaN</td>\n",
              "      <td>NaN</td>\n",
              "      <td>NaN</td>\n",
              "      <td>58.633333</td>\n",
              "      <td>NaN</td>\n",
              "      <td>NaN</td>\n",
              "    </tr>\n",
              "    <tr>\n",
              "      <th>Mali</th>\n",
              "      <td>NaN</td>\n",
              "      <td>NaN</td>\n",
              "      <td>NaN</td>\n",
              "      <td>67.000000</td>\n",
              "      <td>NaN</td>\n",
              "      <td>NaN</td>\n",
              "    </tr>\n",
              "    <tr>\n",
              "      <th>Pakistan</th>\n",
              "      <td>0.3</td>\n",
              "      <td>0.3</td>\n",
              "      <td>0.1</td>\n",
              "      <td>NaN</td>\n",
              "      <td>0.4</td>\n",
              "      <td>0.3</td>\n",
              "    </tr>\n",
              "    <tr>\n",
              "      <th>Sri Lanka</th>\n",
              "      <td>NaN</td>\n",
              "      <td>NaN</td>\n",
              "      <td>NaN</td>\n",
              "      <td>NaN</td>\n",
              "      <td>NaN</td>\n",
              "      <td>0.0</td>\n",
              "    </tr>\n",
              "    <tr>\n",
              "      <th>Sudan</th>\n",
              "      <td>0.0</td>\n",
              "      <td>0.0</td>\n",
              "      <td>0.0</td>\n",
              "      <td>NaN</td>\n",
              "      <td>NaN</td>\n",
              "      <td>NaN</td>\n",
              "    </tr>\n",
              "    <tr>\n",
              "      <th>Suriname</th>\n",
              "      <td>0.0</td>\n",
              "      <td>0.0</td>\n",
              "      <td>0.0</td>\n",
              "      <td>NaN</td>\n",
              "      <td>NaN</td>\n",
              "      <td>NaN</td>\n",
              "    </tr>\n",
              "    <tr>\n",
              "      <th>Tajikistan</th>\n",
              "      <td>1.0</td>\n",
              "      <td>NaN</td>\n",
              "      <td>0.0</td>\n",
              "      <td>NaN</td>\n",
              "      <td>NaN</td>\n",
              "      <td>NaN</td>\n",
              "    </tr>\n",
              "    <tr>\n",
              "      <th>Togo</th>\n",
              "      <td>NaN</td>\n",
              "      <td>NaN</td>\n",
              "      <td>NaN</td>\n",
              "      <td>60.025000</td>\n",
              "      <td>NaN</td>\n",
              "      <td>NaN</td>\n",
              "    </tr>\n",
              "  </tbody>\n",
              "</table>\n",
              "</div>"
            ],
            "text/plain": [
              "               leastcountrieschildren  ...  leastcountriespregnanturban\n",
              "Afghanistan                       NaN  ...                          NaN\n",
              "Azerbaijan                        1.0  ...                          NaN\n",
              "Cambodia                          NaN  ...                          1.7\n",
              "Côte d'Ivoire                     NaN  ...                          NaN\n",
              "Eritrea                           NaN  ...                          NaN\n",
              "Eswatini                          1.3  ...                          0.4\n",
              "Ethiopia                          NaN  ...                          NaN\n",
              "Guatemala                         0.0  ...                          NaN\n",
              "Indonesia                         NaN  ...                          1.1\n",
              "Kiribati                          NaN  ...                          NaN\n",
              "Madagascar                        NaN  ...                          NaN\n",
              "Mali                              NaN  ...                          NaN\n",
              "Pakistan                          0.3  ...                          0.3\n",
              "Sri Lanka                         NaN  ...                          0.0\n",
              "Sudan                             0.0  ...                          NaN\n",
              "Suriname                          0.0  ...                          NaN\n",
              "Tajikistan                        1.0  ...                          NaN\n",
              "Togo                              NaN  ...                          NaN\n",
              "\n",
              "[18 rows x 6 columns]"
            ]
          },
          "metadata": {
            "tags": []
          },
          "execution_count": 120
        }
      ]
    },
    {
      "cell_type": "code",
      "metadata": {
        "id": "RCY8dPvx-ZnT"
      },
      "source": [
        "# fill null value with 0\n",
        "y.fillna(0, inplace=True)"
      ],
      "execution_count": null,
      "outputs": []
    },
    {
      "cell_type": "code",
      "metadata": {
        "colab": {
          "base_uri": "https://localhost:8080/",
          "height": 638
        },
        "id": "ZV7mk5WqeVEF",
        "outputId": "b222ee32-19e0-49fb-9edf-906387f5f44c"
      },
      "source": [
        "# preview dataset\n",
        "y"
      ],
      "execution_count": null,
      "outputs": [
        {
          "output_type": "execute_result",
          "data": {
            "text/html": [
              "<div>\n",
              "<style scoped>\n",
              "    .dataframe tbody tr th:only-of-type {\n",
              "        vertical-align: middle;\n",
              "    }\n",
              "\n",
              "    .dataframe tbody tr th {\n",
              "        vertical-align: top;\n",
              "    }\n",
              "\n",
              "    .dataframe thead th {\n",
              "        text-align: right;\n",
              "    }\n",
              "</style>\n",
              "<table border=\"1\" class=\"dataframe\">\n",
              "  <thead>\n",
              "    <tr style=\"text-align: right;\">\n",
              "      <th></th>\n",
              "      <th>leastcountrieschildren</th>\n",
              "      <th>leastcountrieschildrenrural</th>\n",
              "      <th>leastcountrieschildrenurban</th>\n",
              "      <th>leastcountriespregnant</th>\n",
              "      <th>leastcountriespregnantrural</th>\n",
              "      <th>leastcountriespregnanturban</th>\n",
              "    </tr>\n",
              "  </thead>\n",
              "  <tbody>\n",
              "    <tr>\n",
              "      <th>Afghanistan</th>\n",
              "      <td>0.0</td>\n",
              "      <td>0.0</td>\n",
              "      <td>0.0</td>\n",
              "      <td>0.000000</td>\n",
              "      <td>3.4</td>\n",
              "      <td>0.0</td>\n",
              "    </tr>\n",
              "    <tr>\n",
              "      <th>Azerbaijan</th>\n",
              "      <td>1.0</td>\n",
              "      <td>0.0</td>\n",
              "      <td>0.0</td>\n",
              "      <td>0.000000</td>\n",
              "      <td>0.0</td>\n",
              "      <td>0.0</td>\n",
              "    </tr>\n",
              "    <tr>\n",
              "      <th>Cambodia</th>\n",
              "      <td>0.0</td>\n",
              "      <td>0.0</td>\n",
              "      <td>0.0</td>\n",
              "      <td>0.000000</td>\n",
              "      <td>0.0</td>\n",
              "      <td>1.7</td>\n",
              "    </tr>\n",
              "    <tr>\n",
              "      <th>Côte d'Ivoire</th>\n",
              "      <td>0.0</td>\n",
              "      <td>0.0</td>\n",
              "      <td>0.0</td>\n",
              "      <td>57.150000</td>\n",
              "      <td>0.0</td>\n",
              "      <td>0.0</td>\n",
              "    </tr>\n",
              "    <tr>\n",
              "      <th>Eritrea</th>\n",
              "      <td>0.0</td>\n",
              "      <td>0.0</td>\n",
              "      <td>0.0</td>\n",
              "      <td>0.000000</td>\n",
              "      <td>2.1</td>\n",
              "      <td>0.0</td>\n",
              "    </tr>\n",
              "    <tr>\n",
              "      <th>Eswatini</th>\n",
              "      <td>1.3</td>\n",
              "      <td>1.3</td>\n",
              "      <td>0.0</td>\n",
              "      <td>0.000000</td>\n",
              "      <td>1.5</td>\n",
              "      <td>0.4</td>\n",
              "    </tr>\n",
              "    <tr>\n",
              "      <th>Ethiopia</th>\n",
              "      <td>0.0</td>\n",
              "      <td>0.0</td>\n",
              "      <td>0.0</td>\n",
              "      <td>0.000000</td>\n",
              "      <td>0.8</td>\n",
              "      <td>0.0</td>\n",
              "    </tr>\n",
              "    <tr>\n",
              "      <th>Guatemala</th>\n",
              "      <td>0.0</td>\n",
              "      <td>0.0</td>\n",
              "      <td>0.0</td>\n",
              "      <td>0.000000</td>\n",
              "      <td>0.0</td>\n",
              "      <td>0.0</td>\n",
              "    </tr>\n",
              "    <tr>\n",
              "      <th>Indonesia</th>\n",
              "      <td>0.0</td>\n",
              "      <td>0.0</td>\n",
              "      <td>0.0</td>\n",
              "      <td>0.000000</td>\n",
              "      <td>0.0</td>\n",
              "      <td>1.1</td>\n",
              "    </tr>\n",
              "    <tr>\n",
              "      <th>Kiribati</th>\n",
              "      <td>0.0</td>\n",
              "      <td>0.0</td>\n",
              "      <td>0.0</td>\n",
              "      <td>85.100000</td>\n",
              "      <td>0.0</td>\n",
              "      <td>0.0</td>\n",
              "    </tr>\n",
              "    <tr>\n",
              "      <th>Madagascar</th>\n",
              "      <td>0.0</td>\n",
              "      <td>0.0</td>\n",
              "      <td>0.0</td>\n",
              "      <td>58.633333</td>\n",
              "      <td>0.0</td>\n",
              "      <td>0.0</td>\n",
              "    </tr>\n",
              "    <tr>\n",
              "      <th>Mali</th>\n",
              "      <td>0.0</td>\n",
              "      <td>0.0</td>\n",
              "      <td>0.0</td>\n",
              "      <td>67.000000</td>\n",
              "      <td>0.0</td>\n",
              "      <td>0.0</td>\n",
              "    </tr>\n",
              "    <tr>\n",
              "      <th>Pakistan</th>\n",
              "      <td>0.3</td>\n",
              "      <td>0.3</td>\n",
              "      <td>0.1</td>\n",
              "      <td>0.000000</td>\n",
              "      <td>0.4</td>\n",
              "      <td>0.3</td>\n",
              "    </tr>\n",
              "    <tr>\n",
              "      <th>Sri Lanka</th>\n",
              "      <td>0.0</td>\n",
              "      <td>0.0</td>\n",
              "      <td>0.0</td>\n",
              "      <td>0.000000</td>\n",
              "      <td>0.0</td>\n",
              "      <td>0.0</td>\n",
              "    </tr>\n",
              "    <tr>\n",
              "      <th>Sudan</th>\n",
              "      <td>0.0</td>\n",
              "      <td>0.0</td>\n",
              "      <td>0.0</td>\n",
              "      <td>0.000000</td>\n",
              "      <td>0.0</td>\n",
              "      <td>0.0</td>\n",
              "    </tr>\n",
              "    <tr>\n",
              "      <th>Suriname</th>\n",
              "      <td>0.0</td>\n",
              "      <td>0.0</td>\n",
              "      <td>0.0</td>\n",
              "      <td>0.000000</td>\n",
              "      <td>0.0</td>\n",
              "      <td>0.0</td>\n",
              "    </tr>\n",
              "    <tr>\n",
              "      <th>Tajikistan</th>\n",
              "      <td>1.0</td>\n",
              "      <td>0.0</td>\n",
              "      <td>0.0</td>\n",
              "      <td>0.000000</td>\n",
              "      <td>0.0</td>\n",
              "      <td>0.0</td>\n",
              "    </tr>\n",
              "    <tr>\n",
              "      <th>Togo</th>\n",
              "      <td>0.0</td>\n",
              "      <td>0.0</td>\n",
              "      <td>0.0</td>\n",
              "      <td>60.025000</td>\n",
              "      <td>0.0</td>\n",
              "      <td>0.0</td>\n",
              "    </tr>\n",
              "  </tbody>\n",
              "</table>\n",
              "</div>"
            ],
            "text/plain": [
              "               leastcountrieschildren  ...  leastcountriespregnanturban\n",
              "Afghanistan                       0.0  ...                          0.0\n",
              "Azerbaijan                        1.0  ...                          0.0\n",
              "Cambodia                          0.0  ...                          1.7\n",
              "Côte d'Ivoire                     0.0  ...                          0.0\n",
              "Eritrea                           0.0  ...                          0.0\n",
              "Eswatini                          1.3  ...                          0.4\n",
              "Ethiopia                          0.0  ...                          0.0\n",
              "Guatemala                         0.0  ...                          0.0\n",
              "Indonesia                         0.0  ...                          1.1\n",
              "Kiribati                          0.0  ...                          0.0\n",
              "Madagascar                        0.0  ...                          0.0\n",
              "Mali                              0.0  ...                          0.0\n",
              "Pakistan                          0.3  ...                          0.3\n",
              "Sri Lanka                         0.0  ...                          0.0\n",
              "Sudan                             0.0  ...                          0.0\n",
              "Suriname                          0.0  ...                          0.0\n",
              "Tajikistan                        1.0  ...                          0.0\n",
              "Togo                              0.0  ...                          0.0\n",
              "\n",
              "[18 rows x 6 columns]"
            ]
          },
          "metadata": {
            "tags": []
          },
          "execution_count": 122
        }
      ]
    },
    {
      "cell_type": "code",
      "metadata": {
        "colab": {
          "base_uri": "https://localhost:8080/",
          "height": 239
        },
        "id": "Z1DT0ECzeoCK",
        "outputId": "e0051fb5-3aad-46b9-c363-cc88608e7f22"
      },
      "source": [
        "# Create new column 'Total %'\n",
        "y['Total %'] = (y['leastcountrieschildren'] + y['leastcountrieschildrenrural'] + y['leastcountrieschildrenurban'] + y['leastcountriespregnant'] + y['leastcountriespregnantrural'] + y['leastcountriespregnanturban'])\n",
        "y.sort_values('Total %', ascending=True).head()"
      ],
      "execution_count": null,
      "outputs": [
        {
          "output_type": "execute_result",
          "data": {
            "text/html": [
              "<div>\n",
              "<style scoped>\n",
              "    .dataframe tbody tr th:only-of-type {\n",
              "        vertical-align: middle;\n",
              "    }\n",
              "\n",
              "    .dataframe tbody tr th {\n",
              "        vertical-align: top;\n",
              "    }\n",
              "\n",
              "    .dataframe thead th {\n",
              "        text-align: right;\n",
              "    }\n",
              "</style>\n",
              "<table border=\"1\" class=\"dataframe\">\n",
              "  <thead>\n",
              "    <tr style=\"text-align: right;\">\n",
              "      <th></th>\n",
              "      <th>leastcountrieschildren</th>\n",
              "      <th>leastcountrieschildrenrural</th>\n",
              "      <th>leastcountrieschildrenurban</th>\n",
              "      <th>leastcountriespregnant</th>\n",
              "      <th>leastcountriespregnantrural</th>\n",
              "      <th>leastcountriespregnanturban</th>\n",
              "      <th>Total %</th>\n",
              "    </tr>\n",
              "  </thead>\n",
              "  <tbody>\n",
              "    <tr>\n",
              "      <th>Suriname</th>\n",
              "      <td>0.0</td>\n",
              "      <td>0.0</td>\n",
              "      <td>0.0</td>\n",
              "      <td>0.0</td>\n",
              "      <td>0.0</td>\n",
              "      <td>0.0</td>\n",
              "      <td>0.0</td>\n",
              "    </tr>\n",
              "    <tr>\n",
              "      <th>Sudan</th>\n",
              "      <td>0.0</td>\n",
              "      <td>0.0</td>\n",
              "      <td>0.0</td>\n",
              "      <td>0.0</td>\n",
              "      <td>0.0</td>\n",
              "      <td>0.0</td>\n",
              "      <td>0.0</td>\n",
              "    </tr>\n",
              "    <tr>\n",
              "      <th>Guatemala</th>\n",
              "      <td>0.0</td>\n",
              "      <td>0.0</td>\n",
              "      <td>0.0</td>\n",
              "      <td>0.0</td>\n",
              "      <td>0.0</td>\n",
              "      <td>0.0</td>\n",
              "      <td>0.0</td>\n",
              "    </tr>\n",
              "    <tr>\n",
              "      <th>Sri Lanka</th>\n",
              "      <td>0.0</td>\n",
              "      <td>0.0</td>\n",
              "      <td>0.0</td>\n",
              "      <td>0.0</td>\n",
              "      <td>0.0</td>\n",
              "      <td>0.0</td>\n",
              "      <td>0.0</td>\n",
              "    </tr>\n",
              "    <tr>\n",
              "      <th>Ethiopia</th>\n",
              "      <td>0.0</td>\n",
              "      <td>0.0</td>\n",
              "      <td>0.0</td>\n",
              "      <td>0.0</td>\n",
              "      <td>0.8</td>\n",
              "      <td>0.0</td>\n",
              "      <td>0.8</td>\n",
              "    </tr>\n",
              "  </tbody>\n",
              "</table>\n",
              "</div>"
            ],
            "text/plain": [
              "           leastcountrieschildren  ...  Total %\n",
              "Suriname                      0.0  ...      0.0\n",
              "Sudan                         0.0  ...      0.0\n",
              "Guatemala                     0.0  ...      0.0\n",
              "Sri Lanka                     0.0  ...      0.0\n",
              "Ethiopia                      0.0  ...      0.8\n",
              "\n",
              "[5 rows x 7 columns]"
            ]
          },
          "metadata": {
            "tags": []
          },
          "execution_count": 125
        }
      ]
    },
    {
      "cell_type": "markdown",
      "metadata": {
        "id": "BBctnJYqnTrL"
      },
      "source": [
        "The countries with low use of ITNs: Suriname, Sudan, Guatemala, Sri Lanka and Ethiopia\n"
      ]
    },
    {
      "cell_type": "markdown",
      "metadata": {
        "id": "LjzkENcPqa5h"
      },
      "source": [
        "Analysis based on the most recent survey years\n"
      ]
    },
    {
      "cell_type": "code",
      "metadata": {
        "colab": {
          "base_uri": "https://localhost:8080/",
          "height": 79
        },
        "id": "TuPm5kJyf3Ku",
        "outputId": "73ca0819-4c7a-46bd-efa0-b5886a89f925"
      },
      "source": [
        "# Latest survey carried out in the country of Suriname\n",
        "df_table[(df_table['Countries'] == 'Suriname')].sort_values('Year', ascending = False).head(1)"
      ],
      "execution_count": null,
      "outputs": [
        {
          "output_type": "execute_result",
          "data": {
            "text/html": [
              "<div>\n",
              "<style scoped>\n",
              "    .dataframe tbody tr th:only-of-type {\n",
              "        vertical-align: middle;\n",
              "    }\n",
              "\n",
              "    .dataframe tbody tr th {\n",
              "        vertical-align: top;\n",
              "    }\n",
              "\n",
              "    .dataframe thead th {\n",
              "        text-align: right;\n",
              "    }\n",
              "</style>\n",
              "<table border=\"1\" class=\"dataframe\">\n",
              "  <thead>\n",
              "    <tr style=\"text-align: right;\">\n",
              "      <th></th>\n",
              "      <th>ISO</th>\n",
              "      <th>Countries</th>\n",
              "      <th>Year</th>\n",
              "      <th>National</th>\n",
              "      <th>Rural</th>\n",
              "      <th>Urban</th>\n",
              "      <th>Poorest</th>\n",
              "      <th>Second</th>\n",
              "      <th>Middle</th>\n",
              "      <th>Fourth</th>\n",
              "      <th>Richest</th>\n",
              "    </tr>\n",
              "  </thead>\n",
              "  <tbody>\n",
              "    <tr>\n",
              "      <th>196</th>\n",
              "      <td>SUR</td>\n",
              "      <td>Suriname</td>\n",
              "      <td>2010</td>\n",
              "      <td>43.4</td>\n",
              "      <td>0.0</td>\n",
              "      <td>0.0</td>\n",
              "      <td>43.1</td>\n",
              "      <td>48.9</td>\n",
              "      <td>0.0</td>\n",
              "      <td>0.0</td>\n",
              "      <td>0.0</td>\n",
              "    </tr>\n",
              "  </tbody>\n",
              "</table>\n",
              "</div>"
            ],
            "text/plain": [
              "     ISO Countries  Year  National  ...  Second  Middle  Fourth  Richest\n",
              "196  SUR  Suriname  2010      43.4  ...    48.9     0.0     0.0      0.0\n",
              "\n",
              "[1 rows x 11 columns]"
            ]
          },
          "metadata": {
            "tags": []
          },
          "execution_count": 145
        }
      ]
    },
    {
      "cell_type": "code",
      "metadata": {
        "colab": {
          "base_uri": "https://localhost:8080/",
          "height": 79
        },
        "id": "l3kmr5LIf3Ir",
        "outputId": "883e551d-26c8-497d-be74-0166f140d2f3"
      },
      "source": [
        "# Latest survey carried out in the country of Sudan\n",
        "df_table[(df_table['Countries'] == 'Sudan')].sort_values('Year', ascending = False).head(1)"
      ],
      "execution_count": null,
      "outputs": [
        {
          "output_type": "execute_result",
          "data": {
            "text/html": [
              "<div>\n",
              "<style scoped>\n",
              "    .dataframe tbody tr th:only-of-type {\n",
              "        vertical-align: middle;\n",
              "    }\n",
              "\n",
              "    .dataframe tbody tr th {\n",
              "        vertical-align: top;\n",
              "    }\n",
              "\n",
              "    .dataframe thead th {\n",
              "        text-align: right;\n",
              "    }\n",
              "</style>\n",
              "<table border=\"1\" class=\"dataframe\">\n",
              "  <thead>\n",
              "    <tr style=\"text-align: right;\">\n",
              "      <th></th>\n",
              "      <th>ISO</th>\n",
              "      <th>Countries</th>\n",
              "      <th>Year</th>\n",
              "      <th>National</th>\n",
              "      <th>Rural</th>\n",
              "      <th>Urban</th>\n",
              "      <th>Poorest</th>\n",
              "      <th>Second</th>\n",
              "      <th>Middle</th>\n",
              "      <th>Fourth</th>\n",
              "      <th>Richest</th>\n",
              "    </tr>\n",
              "  </thead>\n",
              "  <tbody>\n",
              "    <tr>\n",
              "      <th>543</th>\n",
              "      <td>SDN</td>\n",
              "      <td>Sudan</td>\n",
              "      <td>2010</td>\n",
              "      <td>25.0</td>\n",
              "      <td>26.8</td>\n",
              "      <td>20.7</td>\n",
              "      <td>23.2</td>\n",
              "      <td>26.6</td>\n",
              "      <td>28.3</td>\n",
              "      <td>25.9</td>\n",
              "      <td>20.5</td>\n",
              "    </tr>\n",
              "  </tbody>\n",
              "</table>\n",
              "</div>"
            ],
            "text/plain": [
              "     ISO Countries  Year  National  ...  Second  Middle  Fourth  Richest\n",
              "543  SDN     Sudan  2010      25.0  ...    26.6    28.3    25.9     20.5\n",
              "\n",
              "[1 rows x 11 columns]"
            ]
          },
          "metadata": {
            "tags": []
          },
          "execution_count": 146
        }
      ]
    },
    {
      "cell_type": "code",
      "metadata": {
        "colab": {
          "base_uri": "https://localhost:8080/",
          "height": 79
        },
        "id": "OwnZAtr_f3FC",
        "outputId": "89721fae-0023-4a73-ada7-6b9ae8674588"
      },
      "source": [
        "# Latest survey carried out in the country of Guatemala\n",
        "df_table[(df_table['Countries'] == 'Guatemala')].sort_values('Year', ascending = False).head(1)"
      ],
      "execution_count": null,
      "outputs": [
        {
          "output_type": "execute_result",
          "data": {
            "text/html": [
              "<div>\n",
              "<style scoped>\n",
              "    .dataframe tbody tr th:only-of-type {\n",
              "        vertical-align: middle;\n",
              "    }\n",
              "\n",
              "    .dataframe tbody tr th {\n",
              "        vertical-align: top;\n",
              "    }\n",
              "\n",
              "    .dataframe thead th {\n",
              "        text-align: right;\n",
              "    }\n",
              "</style>\n",
              "<table border=\"1\" class=\"dataframe\">\n",
              "  <thead>\n",
              "    <tr style=\"text-align: right;\">\n",
              "      <th></th>\n",
              "      <th>ISO</th>\n",
              "      <th>Countries</th>\n",
              "      <th>Year</th>\n",
              "      <th>National</th>\n",
              "      <th>Rural</th>\n",
              "      <th>Urban</th>\n",
              "      <th>Poorest</th>\n",
              "      <th>Second</th>\n",
              "      <th>Middle</th>\n",
              "      <th>Fourth</th>\n",
              "      <th>Richest</th>\n",
              "    </tr>\n",
              "  </thead>\n",
              "  <tbody>\n",
              "    <tr>\n",
              "      <th>82</th>\n",
              "      <td>GTM</td>\n",
              "      <td>Guatemala</td>\n",
              "      <td>1999</td>\n",
              "      <td>1.0</td>\n",
              "      <td>0.0</td>\n",
              "      <td>0.0</td>\n",
              "      <td>0.0</td>\n",
              "      <td>0.0</td>\n",
              "      <td>0.0</td>\n",
              "      <td>0.0</td>\n",
              "      <td>0.0</td>\n",
              "    </tr>\n",
              "  </tbody>\n",
              "</table>\n",
              "</div>"
            ],
            "text/plain": [
              "    ISO  Countries  Year  National  ...  Second  Middle  Fourth  Richest\n",
              "82  GTM  Guatemala  1999       1.0  ...     0.0     0.0     0.0      0.0\n",
              "\n",
              "[1 rows x 11 columns]"
            ]
          },
          "metadata": {
            "tags": []
          },
          "execution_count": 147
        }
      ]
    },
    {
      "cell_type": "code",
      "metadata": {
        "colab": {
          "base_uri": "https://localhost:8080/",
          "height": 79
        },
        "id": "5qH8HJBLf3C1",
        "outputId": "261f078b-120e-4c64-8107-2dab59b70fab"
      },
      "source": [
        "# Latest survey carried out in the country of Sri Lanka\n",
        "df_table[(df_table['Countries'] == 'Sri Lanka')].sort_values('Year', ascending = False).head(1)"
      ],
      "execution_count": null,
      "outputs": [
        {
          "output_type": "execute_result",
          "data": {
            "text/html": [
              "<div>\n",
              "<style scoped>\n",
              "    .dataframe tbody tr th:only-of-type {\n",
              "        vertical-align: middle;\n",
              "    }\n",
              "\n",
              "    .dataframe tbody tr th {\n",
              "        vertical-align: top;\n",
              "    }\n",
              "\n",
              "    .dataframe thead th {\n",
              "        text-align: right;\n",
              "    }\n",
              "</style>\n",
              "<table border=\"1\" class=\"dataframe\">\n",
              "  <thead>\n",
              "    <tr style=\"text-align: right;\">\n",
              "      <th></th>\n",
              "      <th>ISO</th>\n",
              "      <th>Countries</th>\n",
              "      <th>Year</th>\n",
              "      <th>National</th>\n",
              "      <th>Rural</th>\n",
              "      <th>Urban</th>\n",
              "      <th>Poorest</th>\n",
              "      <th>Second</th>\n",
              "      <th>Middle</th>\n",
              "      <th>Fourth</th>\n",
              "      <th>Richest</th>\n",
              "    </tr>\n",
              "  </thead>\n",
              "  <tbody>\n",
              "    <tr>\n",
              "      <th>107</th>\n",
              "      <td>LKA</td>\n",
              "      <td>Sri Lanka</td>\n",
              "      <td>2016</td>\n",
              "      <td>3.5</td>\n",
              "      <td>4.1</td>\n",
              "      <td>1.5</td>\n",
              "      <td>4.8</td>\n",
              "      <td>4.4</td>\n",
              "      <td>4.4</td>\n",
              "      <td>2.9</td>\n",
              "      <td>0.8</td>\n",
              "    </tr>\n",
              "  </tbody>\n",
              "</table>\n",
              "</div>"
            ],
            "text/plain": [
              "     ISO  Countries  Year  National  ...  Second  Middle  Fourth  Richest\n",
              "107  LKA  Sri Lanka  2016       3.5  ...     4.4     4.4     2.9      0.8\n",
              "\n",
              "[1 rows x 11 columns]"
            ]
          },
          "metadata": {
            "tags": []
          },
          "execution_count": 148
        }
      ]
    },
    {
      "cell_type": "code",
      "metadata": {
        "colab": {
          "base_uri": "https://localhost:8080/",
          "height": 79
        },
        "id": "FcaCaseMf2_2",
        "outputId": "e9ae2997-5c7f-453c-f393-baebd8a3db92"
      },
      "source": [
        "# Latest survey carried out in the country of Ethiopia\n",
        "df_table[(df_table['Countries'] == 'Ethiopia')].sort_values('Year', ascending = False).head(1)"
      ],
      "execution_count": null,
      "outputs": [
        {
          "output_type": "execute_result",
          "data": {
            "text/html": [
              "<div>\n",
              "<style scoped>\n",
              "    .dataframe tbody tr th:only-of-type {\n",
              "        vertical-align: middle;\n",
              "    }\n",
              "\n",
              "    .dataframe tbody tr th {\n",
              "        vertical-align: top;\n",
              "    }\n",
              "\n",
              "    .dataframe thead th {\n",
              "        text-align: right;\n",
              "    }\n",
              "</style>\n",
              "<table border=\"1\" class=\"dataframe\">\n",
              "  <thead>\n",
              "    <tr style=\"text-align: right;\">\n",
              "      <th></th>\n",
              "      <th>ISO</th>\n",
              "      <th>Countries</th>\n",
              "      <th>Year</th>\n",
              "      <th>National</th>\n",
              "      <th>Rural</th>\n",
              "      <th>Urban</th>\n",
              "      <th>Poorest</th>\n",
              "      <th>Second</th>\n",
              "      <th>Middle</th>\n",
              "      <th>Fourth</th>\n",
              "      <th>Richest</th>\n",
              "    </tr>\n",
              "  </thead>\n",
              "  <tbody>\n",
              "    <tr>\n",
              "      <th>54</th>\n",
              "      <td>ETH</td>\n",
              "      <td>Ethiopia</td>\n",
              "      <td>2015</td>\n",
              "      <td>45.3</td>\n",
              "      <td>43.5</td>\n",
              "      <td>59.9</td>\n",
              "      <td>30.5</td>\n",
              "      <td>43.0</td>\n",
              "      <td>48.0</td>\n",
              "      <td>55.1</td>\n",
              "      <td>53.8</td>\n",
              "    </tr>\n",
              "  </tbody>\n",
              "</table>\n",
              "</div>"
            ],
            "text/plain": [
              "    ISO Countries  Year  National  ...  Second  Middle  Fourth  Richest\n",
              "54  ETH  Ethiopia  2015      45.3  ...    43.0    48.0    55.1     53.8\n",
              "\n",
              "[1 rows x 11 columns]"
            ]
          },
          "metadata": {
            "tags": []
          },
          "execution_count": 149
        }
      ]
    }
  ]
}